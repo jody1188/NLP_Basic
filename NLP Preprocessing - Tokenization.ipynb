{
 "cells": [
  {
   "cell_type": "markdown",
   "id": "c35d0980",
   "metadata": {},
   "source": [
    "# Preprocessing - Tokenization\n",
    "\n",
    "- 자연어 처리에서 corpus data가 필요에 맞게 전처리가 되지 않은 상태라면 해당 데이터를 사용하고자하는 용도에 맞게 토큰화를 진행해야됩니다."
   ]
  },
  {
   "cell_type": "markdown",
   "id": "1eb4e93a",
   "metadata": {},
   "source": [
    "## Word Tokenization\n",
    "\n",
    "- 구두점이나 특수 문자를 단순 제외해서는 안된다. corpus에 대한 정제 작업을 진행하다보면, 구두점도 하나의 token으로 분류 하기도하고 단어 자체에 구두점을 갖고 있는 경우도 있습니다.\n",
    "- 줄임말과 단어 내에 띄어쓰기가 있는 경우, 아포스트로피는 압축된 단어를 다시 펼치는 역할을 하기도 합니다. 예를 들어 we're 같은 경우 re를 접어(clitic)이라고도 합니다. 토큰화 작업에서는 이러한 단어를 하나로 인식할 수 있는 능력도 가져야 합니다."
   ]
  },
  {
   "cell_type": "markdown",
   "id": "d227dd13",
   "metadata": {},
   "source": [
    "### Spacy"
   ]
  },
  {
   "cell_type": "code",
   "execution_count": 1,
   "id": "958a7fd3",
   "metadata": {},
   "outputs": [],
   "source": [
    "import spacy\n",
    "spacy_en = spacy.load('en_core_web_sm')"
   ]
  },
  {
   "cell_type": "code",
   "execution_count": 2,
   "id": "318dc29a",
   "metadata": {},
   "outputs": [],
   "source": [
    "en_text = 'My name is Hong Jong Hyun'"
   ]
  },
  {
   "cell_type": "code",
   "execution_count": 3,
   "id": "ba1f148b",
   "metadata": {},
   "outputs": [],
   "source": [
    "def tokenization(en_text):\n",
    "    return [tok.text for tok in spacy_en.tokenizer(en_text)]"
   ]
  },
  {
   "cell_type": "code",
   "execution_count": 4,
   "id": "09a1f5f0",
   "metadata": {},
   "outputs": [
    {
     "name": "stdout",
     "output_type": "stream",
     "text": [
      "['My', 'name', 'is', 'Hong', 'Jong', 'Hyun']\n"
     ]
    }
   ],
   "source": [
    "print(tokenization(en_text))"
   ]
  },
  {
   "cell_type": "markdown",
   "id": "b09ff635",
   "metadata": {},
   "source": [
    "### NLTK"
   ]
  },
  {
   "cell_type": "code",
   "execution_count": 5,
   "id": "e29bd276",
   "metadata": {},
   "outputs": [
    {
     "name": "stderr",
     "output_type": "stream",
     "text": [
      "[nltk_data] Downloading package punkt to /Users/jody/nltk_data...\n",
      "[nltk_data]   Package punkt is already up-to-date!\n"
     ]
    },
    {
     "data": {
      "text/plain": [
       "True"
      ]
     },
     "execution_count": 5,
     "metadata": {},
     "output_type": "execute_result"
    }
   ],
   "source": [
    "import nltk\n",
    "nltk.download('punkt')"
   ]
  },
  {
   "cell_type": "code",
   "execution_count": 6,
   "id": "d3cf8ca8",
   "metadata": {},
   "outputs": [
    {
     "name": "stdout",
     "output_type": "stream",
     "text": [
      "['My', 'name', 'is', 'Hong', 'Jong', 'Hyun']\n"
     ]
    }
   ],
   "source": [
    "from nltk.tokenize import word_tokenize\n",
    "print(word_tokenize(en_text))"
   ]
  },
  {
   "cell_type": "markdown",
   "id": "6c2a958c",
   "metadata": {},
   "source": [
    "### Split"
   ]
  },
  {
   "cell_type": "code",
   "execution_count": 7,
   "id": "257eea2a",
   "metadata": {},
   "outputs": [
    {
     "name": "stdout",
     "output_type": "stream",
     "text": [
      "['My', 'name', 'is', 'Hong', 'Jong', 'Hyun']\n"
     ]
    }
   ],
   "source": [
    "print(en_text.split())"
   ]
  },
  {
   "cell_type": "markdown",
   "id": "5c8e36f0",
   "metadata": {},
   "source": [
    "### BertTokenizer, nltk tokenizer, spacy"
   ]
  },
  {
   "cell_type": "code",
   "execution_count": 8,
   "id": "81e09e50",
   "metadata": {},
   "outputs": [],
   "source": [
    "from transformers import BertTokenizer\n",
    "from nltk.tokenize import (word_tokenize, \n",
    "                           WordPunctTokenizer, \n",
    "                           TreebankWordTokenizer)"
   ]
  },
  {
   "cell_type": "code",
   "execution_count": 9,
   "id": "d4d19c9a",
   "metadata": {},
   "outputs": [
    {
     "data": {
      "application/vnd.jupyter.widget-view+json": {
       "model_id": "cd714bb0b46647099d36dd820031e63d",
       "version_major": 2,
       "version_minor": 0
      },
      "text/plain": [
       "Downloading:   0%|          | 0.00/208k [00:00<?, ?B/s]"
      ]
     },
     "metadata": {},
     "output_type": "display_data"
    },
    {
     "data": {
      "application/vnd.jupyter.widget-view+json": {
       "model_id": "0776de654bdf4987a0b96e5c9c34d504",
       "version_major": 2,
       "version_minor": 0
      },
      "text/plain": [
       "Downloading:   0%|          | 0.00/29.0 [00:00<?, ?B/s]"
      ]
     },
     "metadata": {},
     "output_type": "display_data"
    },
    {
     "data": {
      "application/vnd.jupyter.widget-view+json": {
       "model_id": "a726d2f416b14334b949c90549175342",
       "version_major": 2,
       "version_minor": 0
      },
      "text/plain": [
       "Downloading:   0%|          | 0.00/762 [00:00<?, ?B/s]"
      ]
     },
     "metadata": {},
     "output_type": "display_data"
    }
   ],
   "source": [
    "tokenizer = BertTokenizer.from_pretrained('bert-large-cased')"
   ]
  },
  {
   "cell_type": "code",
   "execution_count": 10,
   "id": "f5c02601",
   "metadata": {},
   "outputs": [
    {
     "name": "stdout",
     "output_type": "stream",
     "text": [
      "['I', \"'ll\", 'be', 'back', 'as', 'soon', 'as', 'possible', '.']\n",
      "['I', \"'\", 'll', 'be', 'back', 'as', 'soon', 'as', 'possible', '.']\n",
      "['I', \"'ll\", 'be', 'back', 'as', 'soon', 'as', 'possible', '.']\n",
      "['I', \"'\", 'll', 'be', 'back', 'as', 'soon', 'as', 'possible', '.']\n",
      "['I', \"'ll\", 'be', 'back', 'as', 'soon', 'as', 'possible', '.']\n"
     ]
    }
   ],
   "source": [
    "text1 = \"I'll be back as soon as possible.\"\n",
    "\n",
    "print(word_tokenize(text1))\n",
    "print(WordPunctTokenizer().tokenize(text1))\n",
    "print(TreebankWordTokenizer().tokenize(text1))\n",
    "print(tokenizer.tokenize(text1))\n",
    "print(tokenization(text1))"
   ]
  },
  {
   "cell_type": "code",
   "execution_count": 11,
   "id": "176cd045",
   "metadata": {},
   "outputs": [
    {
     "name": "stdout",
     "output_type": "stream",
     "text": [
      "['I', 'love', 'red-eyed', '.']\n",
      "['I', 'love', 'red', '-', 'eyed', '.']\n",
      "['I', 'love', 'red-eyed', '.']\n",
      "['I', 'love', 'red', '-', 'eyed', '.']\n",
      "['I', 'love', 'red', '-', 'eyed', '.']\n"
     ]
    }
   ],
   "source": [
    "text2 = 'I love red-eyed.'\n",
    "\n",
    "print(word_tokenize(text2))\n",
    "print(WordPunctTokenizer().tokenize(text2))\n",
    "print(TreebankWordTokenizer().tokenize(text2))\n",
    "print(tokenizer.tokenize(text2))\n",
    "print(tokenization(text2))"
   ]
  },
  {
   "cell_type": "code",
   "execution_count": 12,
   "id": "6e27b11a",
   "metadata": {},
   "outputs": [
    {
     "name": "stdout",
     "output_type": "stream",
     "text": [
      "['I', 'wan', 'na', 'banna', '.']\n",
      "['I', 'wanna', 'banna', '.']\n",
      "['I', 'wan', 'na', 'banna', '.']\n",
      "['I', 'wanna', 'ban', '##na', '.']\n",
      "['I', 'wanna', 'banna', '.']\n"
     ]
    }
   ],
   "source": [
    "text3 = 'I wanna banna.'\n",
    "\n",
    "print(word_tokenize(text3))\n",
    "print(WordPunctTokenizer().tokenize(text3))\n",
    "print(TreebankWordTokenizer().tokenize(text3))\n",
    "print(tokenizer.tokenize(text3))\n",
    "print(tokenization(text3))"
   ]
  },
  {
   "cell_type": "markdown",
   "id": "b42d5bfc",
   "metadata": {},
   "source": [
    "- 여러 tokenizer를 사용해본 결과 아포스트로피를 처리하는 방법이 달랐다. 그리고 합성어를 처리하는 방법 또한 각 tokenizer마다 달랐다."
   ]
  },
  {
   "cell_type": "markdown",
   "id": "c0b95278",
   "metadata": {},
   "source": [
    "## Sentence Tokenization\n",
    "\n",
    "- corpus내에 문장 단위로 구분하는 작업을 의미합니다. 문장 단위로 구분할수 있는 방법은 쉽게 (.),이나 (!)로 잘라낼 수 있지만 항상 그렇지는 않습니다. 이러한 것들은 문장의 끝이 아니더라도 등장할 수 있기 때문입니다."
   ]
  },
  {
   "cell_type": "code",
   "execution_count": 14,
   "id": "8f5d947c",
   "metadata": {},
   "outputs": [],
   "source": [
    "from nltk.tokenize import sent_tokenize"
   ]
  },
  {
   "cell_type": "code",
   "execution_count": 15,
   "id": "3a664ef7",
   "metadata": {},
   "outputs": [],
   "source": [
    "sent_text1 = \"His barber kept his word. But keeping such a huge secret to himself was driving him crazy. Finally, the barber went up a mountain and almost to the edge of a cliff. He dug a hole in the midst of some reeds. He looked about, to make sure no one was near.\""
   ]
  },
  {
   "cell_type": "code",
   "execution_count": 16,
   "id": "4b4d65ab",
   "metadata": {},
   "outputs": [
    {
     "name": "stdout",
     "output_type": "stream",
     "text": [
      "['His barber kept his word.', 'But keeping such a huge secret to himself was driving him crazy.', 'Finally, the barber went up a mountain and almost to the edge of a cliff.', 'He dug a hole in the midst of some reeds.', 'He looked about, to make sure no one was near.']\n"
     ]
    }
   ],
   "source": [
    "print(sent_tokenize(sent_text1))"
   ]
  },
  {
   "cell_type": "markdown",
   "id": "2bae35b5",
   "metadata": {},
   "source": [
    "#### 한국어"
   ]
  },
  {
   "cell_type": "code",
   "execution_count": 19,
   "id": "5db1a972",
   "metadata": {},
   "outputs": [],
   "source": [
    "from kss import split_sentences"
   ]
  },
  {
   "cell_type": "code",
   "execution_count": 20,
   "id": "8d29e40d",
   "metadata": {},
   "outputs": [],
   "source": [
    "sent_text2 = '안녕하세요. 저는 홍종현입니다. 제 나이는 27살입니다. 잘부탁드립니다.'"
   ]
  },
  {
   "cell_type": "code",
   "execution_count": 21,
   "id": "46eb14ff",
   "metadata": {},
   "outputs": [
    {
     "name": "stderr",
     "output_type": "stream",
     "text": [
      "[Korean Sentence Splitter]: Initializing Pynori...\n"
     ]
    },
    {
     "data": {
      "text/plain": [
       "['안녕하세요.', '저는 홍종현입니다.', '제 나이는 27살입니다.', '잘부탁드립니다.']"
      ]
     },
     "execution_count": 21,
     "metadata": {},
     "output_type": "execute_result"
    }
   ],
   "source": [
    "split_sentences(sent_text2)"
   ]
  }
 ],
 "metadata": {
  "kernelspec": {
   "display_name": "Python 3 (ipykernel)",
   "language": "python",
   "name": "python3"
  },
  "language_info": {
   "codemirror_mode": {
    "name": "ipython",
    "version": 3
   },
   "file_extension": ".py",
   "mimetype": "text/x-python",
   "name": "python",
   "nbconvert_exporter": "python",
   "pygments_lexer": "ipython3",
   "version": "3.8.12"
  }
 },
 "nbformat": 4,
 "nbformat_minor": 5
}

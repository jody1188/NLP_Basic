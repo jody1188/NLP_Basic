{
 "cells": [
  {
   "cell_type": "markdown",
   "id": "0626e51c",
   "metadata": {},
   "source": [
    "## Stopword\n",
    "\n",
    "-  데이터에서 유의미한 단어 토큰만을 선별하기 위해서는 큰 의미가 없는 단어 토큰을 제거하는 작업이 필요합니다.여기서 큰 의미가 없다라는 것은 자주 등장하지만 분석을 하는 것에 있어서는 큰 도움이 되지 않는 단어들을 말합니다. 예를 들면, I, my, me, over, 조사, 접미사 같은 단어들은 문장에서는 자주 등장하지만 실제 의미 분석을 하는데는 의미가 없습니다. 이러한 단어들을 불용어(stopword)라고 합니다."
   ]
  },
  {
   "cell_type": "code",
   "execution_count": 3,
   "id": "673cffbe",
   "metadata": {},
   "outputs": [],
   "source": [
    "from nltk.corpus import stopwords\n",
    "from nltk.tokenize import word_tokenize \n",
    "from konlpy.tag import Okt\n",
    "import spacy\n",
    "spacy_en = spacy.load('en_core_web_sm')"
   ]
  },
  {
   "cell_type": "code",
   "execution_count": 7,
   "id": "1e007040",
   "metadata": {},
   "outputs": [],
   "source": [
    "def tokenization(en_text):\n",
    "    return [tok.text for tok in spacy_en.tokenizer(en_text)]"
   ]
  },
  {
   "cell_type": "code",
   "execution_count": 2,
   "id": "50d0ee9d",
   "metadata": {},
   "outputs": [],
   "source": [
    "text = \"Tesla’s 4680 battery is 46 millimeters in diameter and 80 millimeters in length, and offers six times the power of the carmaker’s previous cells and five times the energy capacity.\""
   ]
  },
  {
   "cell_type": "code",
   "execution_count": 8,
   "id": "a15a1bbd",
   "metadata": {},
   "outputs": [
    {
     "name": "stdout",
     "output_type": "stream",
     "text": [
      "['Tesla', '’s', '4680', 'battery', '46', 'millimeters', 'diameter', '80', 'millimeters', 'length', ',', 'offers', 'six', 'times', 'power', 'carmaker', '’s', 'previous', 'cells', 'five', 'times', 'energy', 'capacity', '.']\n"
     ]
    }
   ],
   "source": [
    "words = tokenization(text)\n",
    "\n",
    "stop_words = stopwords.words('english')\n",
    "\n",
    "result = []\n",
    "for word in words:\n",
    "    if word not in stop_words:\n",
    "        result.append(word)\n",
    "print(result)"
   ]
  }
 ],
 "metadata": {
  "kernelspec": {
   "display_name": "Python 3 (ipykernel)",
   "language": "python",
   "name": "python3"
  },
  "language_info": {
   "codemirror_mode": {
    "name": "ipython",
    "version": 3
   },
   "file_extension": ".py",
   "mimetype": "text/x-python",
   "name": "python",
   "nbconvert_exporter": "python",
   "pygments_lexer": "ipython3",
   "version": "3.8.12"
  }
 },
 "nbformat": 4,
 "nbformat_minor": 5
}

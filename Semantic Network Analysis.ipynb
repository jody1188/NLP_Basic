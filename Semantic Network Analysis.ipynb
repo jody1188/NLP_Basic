{
 "cells": [
  {
   "cell_type": "code",
   "execution_count": 3,
   "id": "ea70d39a",
   "metadata": {},
   "outputs": [
    {
     "name": "stderr",
     "output_type": "stream",
     "text": [
      "[nltk_data] Downloading package punkt to /Users/jody/nltk_data...\n",
      "[nltk_data]   Package punkt is already up-to-date!\n"
     ]
    },
    {
     "data": {
      "text/plain": [
       "True"
      ]
     },
     "execution_count": 3,
     "metadata": {},
     "output_type": "execute_result"
    }
   ],
   "source": [
    "import nltk \n",
    "nltk.download('punkt')"
   ]
  },
  {
   "cell_type": "code",
   "execution_count": 6,
   "id": "5956baec",
   "metadata": {},
   "outputs": [
    {
     "name": "stdout",
     "output_type": "stream",
     "text": [
      "[('I', 'love'), ('love', 'data'), ('data', 'science'), ('science', 'and'), ('and', 'deep'), ('deep', 'learning')]\n"
     ]
    }
   ],
   "source": [
    "from nltk import word_tokenize, bigrams\n",
    "\n",
    "sentence = 'I love data science and deep learning'\n",
    "tokens = word_tokenize(sentence)\n",
    "\n",
    "bgram = bigrams(tokens)\n",
    "bgram_list = [x for x in bgram]\n",
    "print(bgram_list)\n",
    "\n",
    "# 튜플 형태로, bgram 형태"
   ]
  },
  {
   "cell_type": "code",
   "execution_count": 7,
   "id": "2d83652b",
   "metadata": {},
   "outputs": [
    {
     "name": "stdout",
     "output_type": "stream",
     "text": [
      "[('I', 'love', 'data'), ('love', 'data', 'science'), ('data', 'science', 'and'), ('science', 'and', 'deep'), ('and', 'deep', 'learning')]\n",
      "[('I', 'love', 'data', 'science'), ('love', 'data', 'science', 'and'), ('data', 'science', 'and', 'deep'), ('science', 'and', 'deep', 'learning')]\n"
     ]
    }
   ],
   "source": [
    "from nltk.util import ngrams\n",
    "\n",
    "tgram = ngrams(tokens, 3)\n",
    "qgram = ngrams(tokens, 4)\n",
    "\n",
    "tgram_list = [x for x in tgram]\n",
    "qgram_list = [x for x in qgram]\n",
    "\n",
    "print(tgram_list)\n",
    "print(qgram_list)"
   ]
  },
  {
   "cell_type": "code",
   "execution_count": 9,
   "id": "40e10ec0",
   "metadata": {},
   "outputs": [
    {
     "data": {
      "text/plain": [
       "['I', 'love', 'data', 'science', 'and', 'deep', 'know', 'this']"
      ]
     },
     "execution_count": 9,
     "metadata": {},
     "output_type": "execute_result"
    }
   ],
   "source": [
    "from nltk import ConditionalFreqDist\n",
    "\n",
    "sentences = ['I love data science and deep learning', 'I love science', 'I know this code']\n",
    "\n",
    "tokens = [word_tokenize(x) for x in sentences]\n",
    "bgrams = [bigrams(x) for x in tokens]\n",
    "\n",
    "token = []\n",
    "for i in bgrams:\n",
    "    token += (x for x in i)\n",
    "cfd = ConditionalFreqDist(token)\n",
    "cfd.conditions()"
   ]
  },
  {
   "cell_type": "code",
   "execution_count": 10,
   "id": "490d0197",
   "metadata": {},
   "outputs": [
    {
     "name": "stdout",
     "output_type": "stream",
     "text": [
      "<FreqDist with 2 samples and 3 outcomes>\n"
     ]
    }
   ],
   "source": [
    "print(cfd['I'])"
   ]
  },
  {
   "cell_type": "code",
   "execution_count": 11,
   "id": "0a3b5a95",
   "metadata": {},
   "outputs": [
    {
     "name": "stdout",
     "output_type": "stream",
     "text": [
      "0\n"
     ]
    }
   ],
   "source": [
    "print(cfd['I']['love']) # 두개가 붙어있는것이 두번 출현"
   ]
  },
  {
   "cell_type": "code",
   "execution_count": 12,
   "id": "ede444db",
   "metadata": {},
   "outputs": [
    {
     "name": "stdout",
     "output_type": "stream",
     "text": [
      "[('love', 2)]\n"
     ]
    }
   ],
   "source": [
    "print(cfd['I'].most_common(1)) # 'I'랑 붙어서 제일 많이 출현한것"
   ]
  },
  {
   "cell_type": "markdown",
   "id": "38e85506",
   "metadata": {},
   "source": [
    "#### 동시출현을 행렬로 표현"
   ]
  },
  {
   "cell_type": "code",
   "execution_count": 13,
   "id": "a0e1a329",
   "metadata": {},
   "outputs": [
    {
     "name": "stdout",
     "output_type": "stream",
     "text": [
      "dict_keys(['I', 'love', 'data', 'science', 'and', 'deep', 'know', 'this', 'i'])\n",
      "[[0 2 0 0 0 0 1 0 0]\n",
      " [0 0 1 1 0 0 0 0 0]\n",
      " [0 0 0 1 0 0 0 0 0]\n",
      " [0 0 0 0 1 0 0 0 0]\n",
      " [0 0 0 0 0 1 0 0 0]\n",
      " [0 0 0 0 0 0 0 0 0]\n",
      " [0 0 0 0 0 0 0 1 0]\n",
      " [0 0 0 0 0 0 0 0 0]\n",
      " [0 0 0 0 0 0 0 0 0]]\n"
     ]
    }
   ],
   "source": [
    "import numpy as np\n",
    "\n",
    "freq_matrix = []\n",
    "\n",
    "for i in cfd.keys():\n",
    "    temp = []\n",
    "    for j in cfd.keys():\n",
    "        temp.append(cfd[i][j])\n",
    "    freq_matrix.append(temp)\n",
    "freq_matrix = np.array(freq_matrix)\n",
    "\n",
    "print(cfd.keys())\n",
    "print(freq_matrix)"
   ]
  },
  {
   "cell_type": "markdown",
   "id": "edbdb9e2",
   "metadata": {},
   "source": [
    "#### 동시 출현 빈도 데이터프레임"
   ]
  },
  {
   "cell_type": "code",
   "execution_count": 14,
   "id": "ee59cb80",
   "metadata": {},
   "outputs": [
    {
     "data": {
      "text/html": [
       "<style type=\"text/css\">\n",
       "#T_88f03_row0_col0, #T_88f03_row0_col2, #T_88f03_row0_col3, #T_88f03_row0_col4, #T_88f03_row0_col5, #T_88f03_row0_col7, #T_88f03_row0_col8, #T_88f03_row1_col0, #T_88f03_row1_col1, #T_88f03_row1_col4, #T_88f03_row1_col5, #T_88f03_row1_col6, #T_88f03_row1_col7, #T_88f03_row1_col8, #T_88f03_row2_col0, #T_88f03_row2_col1, #T_88f03_row2_col2, #T_88f03_row2_col4, #T_88f03_row2_col5, #T_88f03_row2_col6, #T_88f03_row2_col7, #T_88f03_row2_col8, #T_88f03_row3_col0, #T_88f03_row3_col1, #T_88f03_row3_col2, #T_88f03_row3_col3, #T_88f03_row3_col5, #T_88f03_row3_col6, #T_88f03_row3_col7, #T_88f03_row3_col8, #T_88f03_row4_col0, #T_88f03_row4_col1, #T_88f03_row4_col2, #T_88f03_row4_col3, #T_88f03_row4_col4, #T_88f03_row4_col6, #T_88f03_row4_col7, #T_88f03_row4_col8, #T_88f03_row5_col0, #T_88f03_row5_col1, #T_88f03_row5_col2, #T_88f03_row5_col3, #T_88f03_row5_col4, #T_88f03_row5_col5, #T_88f03_row5_col6, #T_88f03_row5_col7, #T_88f03_row5_col8, #T_88f03_row6_col0, #T_88f03_row6_col1, #T_88f03_row6_col2, #T_88f03_row6_col3, #T_88f03_row6_col4, #T_88f03_row6_col5, #T_88f03_row6_col6, #T_88f03_row6_col8, #T_88f03_row7_col0, #T_88f03_row7_col1, #T_88f03_row7_col2, #T_88f03_row7_col3, #T_88f03_row7_col4, #T_88f03_row7_col5, #T_88f03_row7_col6, #T_88f03_row7_col7, #T_88f03_row7_col8, #T_88f03_row8_col0, #T_88f03_row8_col1, #T_88f03_row8_col2, #T_88f03_row8_col3, #T_88f03_row8_col4, #T_88f03_row8_col5, #T_88f03_row8_col6, #T_88f03_row8_col7, #T_88f03_row8_col8 {\n",
       "  background-color: #3b4cc0;\n",
       "  color: #f1f1f1;\n",
       "}\n",
       "#T_88f03_row0_col1, #T_88f03_row0_col6, #T_88f03_row1_col2, #T_88f03_row1_col3, #T_88f03_row2_col3, #T_88f03_row3_col4, #T_88f03_row4_col5, #T_88f03_row6_col7 {\n",
       "  background-color: #b40426;\n",
       "  color: #f1f1f1;\n",
       "}\n",
       "</style>\n",
       "<table id=\"T_88f03_\">\n",
       "  <thead>\n",
       "    <tr>\n",
       "      <th class=\"blank level0\" >&nbsp;</th>\n",
       "      <th class=\"col_heading level0 col0\" >I</th>\n",
       "      <th class=\"col_heading level0 col1\" >love</th>\n",
       "      <th class=\"col_heading level0 col2\" >data</th>\n",
       "      <th class=\"col_heading level0 col3\" >science</th>\n",
       "      <th class=\"col_heading level0 col4\" >and</th>\n",
       "      <th class=\"col_heading level0 col5\" >deep</th>\n",
       "      <th class=\"col_heading level0 col6\" >know</th>\n",
       "      <th class=\"col_heading level0 col7\" >this</th>\n",
       "      <th class=\"col_heading level0 col8\" >i</th>\n",
       "    </tr>\n",
       "  </thead>\n",
       "  <tbody>\n",
       "    <tr>\n",
       "      <th id=\"T_88f03_level0_row0\" class=\"row_heading level0 row0\" >I</th>\n",
       "      <td id=\"T_88f03_row0_col0\" class=\"data row0 col0\" >0</td>\n",
       "      <td id=\"T_88f03_row0_col1\" class=\"data row0 col1\" >2</td>\n",
       "      <td id=\"T_88f03_row0_col2\" class=\"data row0 col2\" >0</td>\n",
       "      <td id=\"T_88f03_row0_col3\" class=\"data row0 col3\" >0</td>\n",
       "      <td id=\"T_88f03_row0_col4\" class=\"data row0 col4\" >0</td>\n",
       "      <td id=\"T_88f03_row0_col5\" class=\"data row0 col5\" >0</td>\n",
       "      <td id=\"T_88f03_row0_col6\" class=\"data row0 col6\" >1</td>\n",
       "      <td id=\"T_88f03_row0_col7\" class=\"data row0 col7\" >0</td>\n",
       "      <td id=\"T_88f03_row0_col8\" class=\"data row0 col8\" >0</td>\n",
       "    </tr>\n",
       "    <tr>\n",
       "      <th id=\"T_88f03_level0_row1\" class=\"row_heading level0 row1\" >love</th>\n",
       "      <td id=\"T_88f03_row1_col0\" class=\"data row1 col0\" >0</td>\n",
       "      <td id=\"T_88f03_row1_col1\" class=\"data row1 col1\" >0</td>\n",
       "      <td id=\"T_88f03_row1_col2\" class=\"data row1 col2\" >1</td>\n",
       "      <td id=\"T_88f03_row1_col3\" class=\"data row1 col3\" >1</td>\n",
       "      <td id=\"T_88f03_row1_col4\" class=\"data row1 col4\" >0</td>\n",
       "      <td id=\"T_88f03_row1_col5\" class=\"data row1 col5\" >0</td>\n",
       "      <td id=\"T_88f03_row1_col6\" class=\"data row1 col6\" >0</td>\n",
       "      <td id=\"T_88f03_row1_col7\" class=\"data row1 col7\" >0</td>\n",
       "      <td id=\"T_88f03_row1_col8\" class=\"data row1 col8\" >0</td>\n",
       "    </tr>\n",
       "    <tr>\n",
       "      <th id=\"T_88f03_level0_row2\" class=\"row_heading level0 row2\" >data</th>\n",
       "      <td id=\"T_88f03_row2_col0\" class=\"data row2 col0\" >0</td>\n",
       "      <td id=\"T_88f03_row2_col1\" class=\"data row2 col1\" >0</td>\n",
       "      <td id=\"T_88f03_row2_col2\" class=\"data row2 col2\" >0</td>\n",
       "      <td id=\"T_88f03_row2_col3\" class=\"data row2 col3\" >1</td>\n",
       "      <td id=\"T_88f03_row2_col4\" class=\"data row2 col4\" >0</td>\n",
       "      <td id=\"T_88f03_row2_col5\" class=\"data row2 col5\" >0</td>\n",
       "      <td id=\"T_88f03_row2_col6\" class=\"data row2 col6\" >0</td>\n",
       "      <td id=\"T_88f03_row2_col7\" class=\"data row2 col7\" >0</td>\n",
       "      <td id=\"T_88f03_row2_col8\" class=\"data row2 col8\" >0</td>\n",
       "    </tr>\n",
       "    <tr>\n",
       "      <th id=\"T_88f03_level0_row3\" class=\"row_heading level0 row3\" >science</th>\n",
       "      <td id=\"T_88f03_row3_col0\" class=\"data row3 col0\" >0</td>\n",
       "      <td id=\"T_88f03_row3_col1\" class=\"data row3 col1\" >0</td>\n",
       "      <td id=\"T_88f03_row3_col2\" class=\"data row3 col2\" >0</td>\n",
       "      <td id=\"T_88f03_row3_col3\" class=\"data row3 col3\" >0</td>\n",
       "      <td id=\"T_88f03_row3_col4\" class=\"data row3 col4\" >1</td>\n",
       "      <td id=\"T_88f03_row3_col5\" class=\"data row3 col5\" >0</td>\n",
       "      <td id=\"T_88f03_row3_col6\" class=\"data row3 col6\" >0</td>\n",
       "      <td id=\"T_88f03_row3_col7\" class=\"data row3 col7\" >0</td>\n",
       "      <td id=\"T_88f03_row3_col8\" class=\"data row3 col8\" >0</td>\n",
       "    </tr>\n",
       "    <tr>\n",
       "      <th id=\"T_88f03_level0_row4\" class=\"row_heading level0 row4\" >and</th>\n",
       "      <td id=\"T_88f03_row4_col0\" class=\"data row4 col0\" >0</td>\n",
       "      <td id=\"T_88f03_row4_col1\" class=\"data row4 col1\" >0</td>\n",
       "      <td id=\"T_88f03_row4_col2\" class=\"data row4 col2\" >0</td>\n",
       "      <td id=\"T_88f03_row4_col3\" class=\"data row4 col3\" >0</td>\n",
       "      <td id=\"T_88f03_row4_col4\" class=\"data row4 col4\" >0</td>\n",
       "      <td id=\"T_88f03_row4_col5\" class=\"data row4 col5\" >1</td>\n",
       "      <td id=\"T_88f03_row4_col6\" class=\"data row4 col6\" >0</td>\n",
       "      <td id=\"T_88f03_row4_col7\" class=\"data row4 col7\" >0</td>\n",
       "      <td id=\"T_88f03_row4_col8\" class=\"data row4 col8\" >0</td>\n",
       "    </tr>\n",
       "    <tr>\n",
       "      <th id=\"T_88f03_level0_row5\" class=\"row_heading level0 row5\" >deep</th>\n",
       "      <td id=\"T_88f03_row5_col0\" class=\"data row5 col0\" >0</td>\n",
       "      <td id=\"T_88f03_row5_col1\" class=\"data row5 col1\" >0</td>\n",
       "      <td id=\"T_88f03_row5_col2\" class=\"data row5 col2\" >0</td>\n",
       "      <td id=\"T_88f03_row5_col3\" class=\"data row5 col3\" >0</td>\n",
       "      <td id=\"T_88f03_row5_col4\" class=\"data row5 col4\" >0</td>\n",
       "      <td id=\"T_88f03_row5_col5\" class=\"data row5 col5\" >0</td>\n",
       "      <td id=\"T_88f03_row5_col6\" class=\"data row5 col6\" >0</td>\n",
       "      <td id=\"T_88f03_row5_col7\" class=\"data row5 col7\" >0</td>\n",
       "      <td id=\"T_88f03_row5_col8\" class=\"data row5 col8\" >0</td>\n",
       "    </tr>\n",
       "    <tr>\n",
       "      <th id=\"T_88f03_level0_row6\" class=\"row_heading level0 row6\" >know</th>\n",
       "      <td id=\"T_88f03_row6_col0\" class=\"data row6 col0\" >0</td>\n",
       "      <td id=\"T_88f03_row6_col1\" class=\"data row6 col1\" >0</td>\n",
       "      <td id=\"T_88f03_row6_col2\" class=\"data row6 col2\" >0</td>\n",
       "      <td id=\"T_88f03_row6_col3\" class=\"data row6 col3\" >0</td>\n",
       "      <td id=\"T_88f03_row6_col4\" class=\"data row6 col4\" >0</td>\n",
       "      <td id=\"T_88f03_row6_col5\" class=\"data row6 col5\" >0</td>\n",
       "      <td id=\"T_88f03_row6_col6\" class=\"data row6 col6\" >0</td>\n",
       "      <td id=\"T_88f03_row6_col7\" class=\"data row6 col7\" >1</td>\n",
       "      <td id=\"T_88f03_row6_col8\" class=\"data row6 col8\" >0</td>\n",
       "    </tr>\n",
       "    <tr>\n",
       "      <th id=\"T_88f03_level0_row7\" class=\"row_heading level0 row7\" >this</th>\n",
       "      <td id=\"T_88f03_row7_col0\" class=\"data row7 col0\" >0</td>\n",
       "      <td id=\"T_88f03_row7_col1\" class=\"data row7 col1\" >0</td>\n",
       "      <td id=\"T_88f03_row7_col2\" class=\"data row7 col2\" >0</td>\n",
       "      <td id=\"T_88f03_row7_col3\" class=\"data row7 col3\" >0</td>\n",
       "      <td id=\"T_88f03_row7_col4\" class=\"data row7 col4\" >0</td>\n",
       "      <td id=\"T_88f03_row7_col5\" class=\"data row7 col5\" >0</td>\n",
       "      <td id=\"T_88f03_row7_col6\" class=\"data row7 col6\" >0</td>\n",
       "      <td id=\"T_88f03_row7_col7\" class=\"data row7 col7\" >0</td>\n",
       "      <td id=\"T_88f03_row7_col8\" class=\"data row7 col8\" >0</td>\n",
       "    </tr>\n",
       "    <tr>\n",
       "      <th id=\"T_88f03_level0_row8\" class=\"row_heading level0 row8\" >i</th>\n",
       "      <td id=\"T_88f03_row8_col0\" class=\"data row8 col0\" >0</td>\n",
       "      <td id=\"T_88f03_row8_col1\" class=\"data row8 col1\" >0</td>\n",
       "      <td id=\"T_88f03_row8_col2\" class=\"data row8 col2\" >0</td>\n",
       "      <td id=\"T_88f03_row8_col3\" class=\"data row8 col3\" >0</td>\n",
       "      <td id=\"T_88f03_row8_col4\" class=\"data row8 col4\" >0</td>\n",
       "      <td id=\"T_88f03_row8_col5\" class=\"data row8 col5\" >0</td>\n",
       "      <td id=\"T_88f03_row8_col6\" class=\"data row8 col6\" >0</td>\n",
       "      <td id=\"T_88f03_row8_col7\" class=\"data row8 col7\" >0</td>\n",
       "      <td id=\"T_88f03_row8_col8\" class=\"data row8 col8\" >0</td>\n",
       "    </tr>\n",
       "  </tbody>\n",
       "</table>\n"
      ],
      "text/plain": [
       "<pandas.io.formats.style.Styler at 0x7fa732203dc0>"
      ]
     },
     "execution_count": 14,
     "metadata": {},
     "output_type": "execute_result"
    }
   ],
   "source": [
    "import pandas as pd\n",
    "\n",
    "df = pd.DataFrame(freq_matrix, index = cfd.keys(), columns = cfd.keys())\n",
    "df.style.background_gradient(cmap = 'coolwarm')"
   ]
  },
  {
   "cell_type": "code",
   "execution_count": 16,
   "id": "4a3c14a8",
   "metadata": {},
   "outputs": [
    {
     "name": "stdout",
     "output_type": "stream",
     "text": [
      "['I', 'love', 'data', 'science', 'and', 'deep', 'know', 'this', 'i']\n",
      "[('I', 'love'), ('I', 'know'), ('love', 'data'), ('love', 'science'), ('data', 'science'), ('science', 'and'), ('and', 'deep'), ('know', 'this')]\n"
     ]
    }
   ],
   "source": [
    "import networkx as nx\n",
    "\n",
    "G = nx. "
   ]
  },
  {
   "cell_type": "markdown",
   "id": "506f8ada",
   "metadata": {},
   "source": [
    "#### edge에 가중치 값이 들어가있음"
   ]
  },
  {
   "cell_type": "code",
   "execution_count": 17,
   "id": "a066a5b0",
   "metadata": {},
   "outputs": [
    {
     "name": "stdout",
     "output_type": "stream",
     "text": [
      "{'weight': 2}\n",
      "{'weight': 1}\n"
     ]
    }
   ],
   "source": [
    "print(G.edges()[('I', 'love')]) # 두번 등장해서 가중치가 2\n",
    "print(G.edges()[('I', 'know')]) # 한번 등장해서 가중치가 1"
   ]
  },
  {
   "cell_type": "code",
   "execution_count": 18,
   "id": "c20666e5",
   "metadata": {},
   "outputs": [
    {
     "data": {
      "image/png": "[encoded data removed]",
      "text/plain": [
       "<Figure size 432x288 with 1 Axes>"
      ]
     },
     "metadata": {},
     "output_type": "display_data"
    }
   ],
   "source": [
    "nx.draw(G, with_labels= True)"
   ]
  },
  {
   "cell_type": "markdown",
   "id": "39d8abec",
   "metadata": {},
   "source": [
    "### 동시 출현 확률 측정"
   ]
  },
  {
   "cell_type": "code",
   "execution_count": 19,
   "id": "4254016e",
   "metadata": {},
   "outputs": [
    {
     "data": {
      "text/plain": [
       "['I', 'love', 'data', 'science', 'and', 'deep', 'know', 'this', 'i']"
      ]
     },
     "execution_count": 19,
     "metadata": {},
     "output_type": "execute_result"
    }
   ],
   "source": [
    "from nltk.probability import ConditionalProbDist, MLEProbDist\n",
    "\n",
    "cpd = ConditionalProbDist(cfd, MLEProbDist)\n",
    "cpd.conditions()"
   ]
  },
  {
   "cell_type": "code",
   "execution_count": 21,
   "id": "4cbf0025",
   "metadata": {},
   "outputs": [
    {
     "name": "stdout",
     "output_type": "stream",
     "text": [
      "dict_keys(['I', 'love', 'data', 'science', 'and', 'deep', 'know', 'this', 'i'])\n",
      "[[0.         0.66666667 0.         0.         0.         0.\n",
      "  0.33333333 0.         0.        ]\n",
      " [0.         0.         0.5        0.5        0.         0.\n",
      "  0.         0.         0.        ]\n",
      " [0.         0.         0.         1.         0.         0.\n",
      "  0.         0.         0.        ]\n",
      " [0.         0.         0.         0.         1.         0.\n",
      "  0.         0.         0.        ]\n",
      " [0.         0.         0.         0.         0.         1.\n",
      "  0.         0.         0.        ]\n",
      " [0.         0.         0.         0.         0.         0.\n",
      "  0.         0.         0.        ]\n",
      " [0.         0.         0.         0.         0.         0.\n",
      "  0.         1.         0.        ]\n",
      " [0.         0.         0.         0.         0.         0.\n",
      "  0.         0.         0.        ]\n",
      " [0.         0.         0.         0.         0.         0.\n",
      "  0.         0.         0.        ]]\n"
     ]
    }
   ],
   "source": [
    "prob_matrix = []\n",
    "\n",
    "for i in cpd.keys():\n",
    "    prob_matrix.append([cpd[i].prob(j) for j in cpd.keys()])\n",
    "    \n",
    "prob_matrix = np.array(prob_matrix)\n",
    "\n",
    "print(cpd.keys())\n",
    "print(prob_matrix)"
   ]
  },
  {
   "cell_type": "code",
   "execution_count": 22,
   "id": "0eb0696a",
   "metadata": {},
   "outputs": [
    {
     "data": {
      "text/html": [
       "<style type=\"text/css\">\n",
       "#T_92e80_row0_col0, #T_92e80_row0_col2, #T_92e80_row0_col3, #T_92e80_row0_col4, #T_92e80_row0_col5, #T_92e80_row0_col7, #T_92e80_row0_col8, #T_92e80_row1_col0, #T_92e80_row1_col1, #T_92e80_row1_col4, #T_92e80_row1_col5, #T_92e80_row1_col6, #T_92e80_row1_col7, #T_92e80_row1_col8, #T_92e80_row2_col0, #T_92e80_row2_col1, #T_92e80_row2_col2, #T_92e80_row2_col4, #T_92e80_row2_col5, #T_92e80_row2_col6, #T_92e80_row2_col7, #T_92e80_row2_col8, #T_92e80_row3_col0, #T_92e80_row3_col1, #T_92e80_row3_col2, #T_92e80_row3_col3, #T_92e80_row3_col5, #T_92e80_row3_col6, #T_92e80_row3_col7, #T_92e80_row3_col8, #T_92e80_row4_col0, #T_92e80_row4_col1, #T_92e80_row4_col2, #T_92e80_row4_col3, #T_92e80_row4_col4, #T_92e80_row4_col6, #T_92e80_row4_col7, #T_92e80_row4_col8, #T_92e80_row5_col0, #T_92e80_row5_col1, #T_92e80_row5_col2, #T_92e80_row5_col3, #T_92e80_row5_col4, #T_92e80_row5_col5, #T_92e80_row5_col6, #T_92e80_row5_col7, #T_92e80_row5_col8, #T_92e80_row6_col0, #T_92e80_row6_col1, #T_92e80_row6_col2, #T_92e80_row6_col3, #T_92e80_row6_col4, #T_92e80_row6_col5, #T_92e80_row6_col6, #T_92e80_row6_col8, #T_92e80_row7_col0, #T_92e80_row7_col1, #T_92e80_row7_col2, #T_92e80_row7_col3, #T_92e80_row7_col4, #T_92e80_row7_col5, #T_92e80_row7_col6, #T_92e80_row7_col7, #T_92e80_row7_col8, #T_92e80_row8_col0, #T_92e80_row8_col1, #T_92e80_row8_col2, #T_92e80_row8_col3, #T_92e80_row8_col4, #T_92e80_row8_col5, #T_92e80_row8_col6, #T_92e80_row8_col7, #T_92e80_row8_col8 {\n",
       "  background-color: #3b4cc0;\n",
       "  color: #f1f1f1;\n",
       "}\n",
       "#T_92e80_row0_col1, #T_92e80_row0_col6, #T_92e80_row1_col2, #T_92e80_row2_col3, #T_92e80_row3_col4, #T_92e80_row4_col5, #T_92e80_row6_col7 {\n",
       "  background-color: #b40426;\n",
       "  color: #f1f1f1;\n",
       "}\n",
       "#T_92e80_row1_col3 {\n",
       "  background-color: #dddcdc;\n",
       "  color: #000000;\n",
       "}\n",
       "</style>\n",
       "<table id=\"T_92e80_\">\n",
       "  <thead>\n",
       "    <tr>\n",
       "      <th class=\"blank level0\" >&nbsp;</th>\n",
       "      <th class=\"col_heading level0 col0\" >I</th>\n",
       "      <th class=\"col_heading level0 col1\" >love</th>\n",
       "      <th class=\"col_heading level0 col2\" >data</th>\n",
       "      <th class=\"col_heading level0 col3\" >science</th>\n",
       "      <th class=\"col_heading level0 col4\" >and</th>\n",
       "      <th class=\"col_heading level0 col5\" >deep</th>\n",
       "      <th class=\"col_heading level0 col6\" >know</th>\n",
       "      <th class=\"col_heading level0 col7\" >this</th>\n",
       "      <th class=\"col_heading level0 col8\" >i</th>\n",
       "    </tr>\n",
       "  </thead>\n",
       "  <tbody>\n",
       "    <tr>\n",
       "      <th id=\"T_92e80_level0_row0\" class=\"row_heading level0 row0\" >I</th>\n",
       "      <td id=\"T_92e80_row0_col0\" class=\"data row0 col0\" >0.000000</td>\n",
       "      <td id=\"T_92e80_row0_col1\" class=\"data row0 col1\" >0.666667</td>\n",
       "      <td id=\"T_92e80_row0_col2\" class=\"data row0 col2\" >0.000000</td>\n",
       "      <td id=\"T_92e80_row0_col3\" class=\"data row0 col3\" >0.000000</td>\n",
       "      <td id=\"T_92e80_row0_col4\" class=\"data row0 col4\" >0.000000</td>\n",
       "      <td id=\"T_92e80_row0_col5\" class=\"data row0 col5\" >0.000000</td>\n",
       "      <td id=\"T_92e80_row0_col6\" class=\"data row0 col6\" >0.333333</td>\n",
       "      <td id=\"T_92e80_row0_col7\" class=\"data row0 col7\" >0.000000</td>\n",
       "      <td id=\"T_92e80_row0_col8\" class=\"data row0 col8\" >0.000000</td>\n",
       "    </tr>\n",
       "    <tr>\n",
       "      <th id=\"T_92e80_level0_row1\" class=\"row_heading level0 row1\" >love</th>\n",
       "      <td id=\"T_92e80_row1_col0\" class=\"data row1 col0\" >0.000000</td>\n",
       "      <td id=\"T_92e80_row1_col1\" class=\"data row1 col1\" >0.000000</td>\n",
       "      <td id=\"T_92e80_row1_col2\" class=\"data row1 col2\" >0.500000</td>\n",
       "      <td id=\"T_92e80_row1_col3\" class=\"data row1 col3\" >0.500000</td>\n",
       "      <td id=\"T_92e80_row1_col4\" class=\"data row1 col4\" >0.000000</td>\n",
       "      <td id=\"T_92e80_row1_col5\" class=\"data row1 col5\" >0.000000</td>\n",
       "      <td id=\"T_92e80_row1_col6\" class=\"data row1 col6\" >0.000000</td>\n",
       "      <td id=\"T_92e80_row1_col7\" class=\"data row1 col7\" >0.000000</td>\n",
       "      <td id=\"T_92e80_row1_col8\" class=\"data row1 col8\" >0.000000</td>\n",
       "    </tr>\n",
       "    <tr>\n",
       "      <th id=\"T_92e80_level0_row2\" class=\"row_heading level0 row2\" >data</th>\n",
       "      <td id=\"T_92e80_row2_col0\" class=\"data row2 col0\" >0.000000</td>\n",
       "      <td id=\"T_92e80_row2_col1\" class=\"data row2 col1\" >0.000000</td>\n",
       "      <td id=\"T_92e80_row2_col2\" class=\"data row2 col2\" >0.000000</td>\n",
       "      <td id=\"T_92e80_row2_col3\" class=\"data row2 col3\" >1.000000</td>\n",
       "      <td id=\"T_92e80_row2_col4\" class=\"data row2 col4\" >0.000000</td>\n",
       "      <td id=\"T_92e80_row2_col5\" class=\"data row2 col5\" >0.000000</td>\n",
       "      <td id=\"T_92e80_row2_col6\" class=\"data row2 col6\" >0.000000</td>\n",
       "      <td id=\"T_92e80_row2_col7\" class=\"data row2 col7\" >0.000000</td>\n",
       "      <td id=\"T_92e80_row2_col8\" class=\"data row2 col8\" >0.000000</td>\n",
       "    </tr>\n",
       "    <tr>\n",
       "      <th id=\"T_92e80_level0_row3\" class=\"row_heading level0 row3\" >science</th>\n",
       "      <td id=\"T_92e80_row3_col0\" class=\"data row3 col0\" >0.000000</td>\n",
       "      <td id=\"T_92e80_row3_col1\" class=\"data row3 col1\" >0.000000</td>\n",
       "      <td id=\"T_92e80_row3_col2\" class=\"data row3 col2\" >0.000000</td>\n",
       "      <td id=\"T_92e80_row3_col3\" class=\"data row3 col3\" >0.000000</td>\n",
       "      <td id=\"T_92e80_row3_col4\" class=\"data row3 col4\" >1.000000</td>\n",
       "      <td id=\"T_92e80_row3_col5\" class=\"data row3 col5\" >0.000000</td>\n",
       "      <td id=\"T_92e80_row3_col6\" class=\"data row3 col6\" >0.000000</td>\n",
       "      <td id=\"T_92e80_row3_col7\" class=\"data row3 col7\" >0.000000</td>\n",
       "      <td id=\"T_92e80_row3_col8\" class=\"data row3 col8\" >0.000000</td>\n",
       "    </tr>\n",
       "    <tr>\n",
       "      <th id=\"T_92e80_level0_row4\" class=\"row_heading level0 row4\" >and</th>\n",
       "      <td id=\"T_92e80_row4_col0\" class=\"data row4 col0\" >0.000000</td>\n",
       "      <td id=\"T_92e80_row4_col1\" class=\"data row4 col1\" >0.000000</td>\n",
       "      <td id=\"T_92e80_row4_col2\" class=\"data row4 col2\" >0.000000</td>\n",
       "      <td id=\"T_92e80_row4_col3\" class=\"data row4 col3\" >0.000000</td>\n",
       "      <td id=\"T_92e80_row4_col4\" class=\"data row4 col4\" >0.000000</td>\n",
       "      <td id=\"T_92e80_row4_col5\" class=\"data row4 col5\" >1.000000</td>\n",
       "      <td id=\"T_92e80_row4_col6\" class=\"data row4 col6\" >0.000000</td>\n",
       "      <td id=\"T_92e80_row4_col7\" class=\"data row4 col7\" >0.000000</td>\n",
       "      <td id=\"T_92e80_row4_col8\" class=\"data row4 col8\" >0.000000</td>\n",
       "    </tr>\n",
       "    <tr>\n",
       "      <th id=\"T_92e80_level0_row5\" class=\"row_heading level0 row5\" >deep</th>\n",
       "      <td id=\"T_92e80_row5_col0\" class=\"data row5 col0\" >0.000000</td>\n",
       "      <td id=\"T_92e80_row5_col1\" class=\"data row5 col1\" >0.000000</td>\n",
       "      <td id=\"T_92e80_row5_col2\" class=\"data row5 col2\" >0.000000</td>\n",
       "      <td id=\"T_92e80_row5_col3\" class=\"data row5 col3\" >0.000000</td>\n",
       "      <td id=\"T_92e80_row5_col4\" class=\"data row5 col4\" >0.000000</td>\n",
       "      <td id=\"T_92e80_row5_col5\" class=\"data row5 col5\" >0.000000</td>\n",
       "      <td id=\"T_92e80_row5_col6\" class=\"data row5 col6\" >0.000000</td>\n",
       "      <td id=\"T_92e80_row5_col7\" class=\"data row5 col7\" >0.000000</td>\n",
       "      <td id=\"T_92e80_row5_col8\" class=\"data row5 col8\" >0.000000</td>\n",
       "    </tr>\n",
       "    <tr>\n",
       "      <th id=\"T_92e80_level0_row6\" class=\"row_heading level0 row6\" >know</th>\n",
       "      <td id=\"T_92e80_row6_col0\" class=\"data row6 col0\" >0.000000</td>\n",
       "      <td id=\"T_92e80_row6_col1\" class=\"data row6 col1\" >0.000000</td>\n",
       "      <td id=\"T_92e80_row6_col2\" class=\"data row6 col2\" >0.000000</td>\n",
       "      <td id=\"T_92e80_row6_col3\" class=\"data row6 col3\" >0.000000</td>\n",
       "      <td id=\"T_92e80_row6_col4\" class=\"data row6 col4\" >0.000000</td>\n",
       "      <td id=\"T_92e80_row6_col5\" class=\"data row6 col5\" >0.000000</td>\n",
       "      <td id=\"T_92e80_row6_col6\" class=\"data row6 col6\" >0.000000</td>\n",
       "      <td id=\"T_92e80_row6_col7\" class=\"data row6 col7\" >1.000000</td>\n",
       "      <td id=\"T_92e80_row6_col8\" class=\"data row6 col8\" >0.000000</td>\n",
       "    </tr>\n",
       "    <tr>\n",
       "      <th id=\"T_92e80_level0_row7\" class=\"row_heading level0 row7\" >this</th>\n",
       "      <td id=\"T_92e80_row7_col0\" class=\"data row7 col0\" >0.000000</td>\n",
       "      <td id=\"T_92e80_row7_col1\" class=\"data row7 col1\" >0.000000</td>\n",
       "      <td id=\"T_92e80_row7_col2\" class=\"data row7 col2\" >0.000000</td>\n",
       "      <td id=\"T_92e80_row7_col3\" class=\"data row7 col3\" >0.000000</td>\n",
       "      <td id=\"T_92e80_row7_col4\" class=\"data row7 col4\" >0.000000</td>\n",
       "      <td id=\"T_92e80_row7_col5\" class=\"data row7 col5\" >0.000000</td>\n",
       "      <td id=\"T_92e80_row7_col6\" class=\"data row7 col6\" >0.000000</td>\n",
       "      <td id=\"T_92e80_row7_col7\" class=\"data row7 col7\" >0.000000</td>\n",
       "      <td id=\"T_92e80_row7_col8\" class=\"data row7 col8\" >0.000000</td>\n",
       "    </tr>\n",
       "    <tr>\n",
       "      <th id=\"T_92e80_level0_row8\" class=\"row_heading level0 row8\" >i</th>\n",
       "      <td id=\"T_92e80_row8_col0\" class=\"data row8 col0\" >0.000000</td>\n",
       "      <td id=\"T_92e80_row8_col1\" class=\"data row8 col1\" >0.000000</td>\n",
       "      <td id=\"T_92e80_row8_col2\" class=\"data row8 col2\" >0.000000</td>\n",
       "      <td id=\"T_92e80_row8_col3\" class=\"data row8 col3\" >0.000000</td>\n",
       "      <td id=\"T_92e80_row8_col4\" class=\"data row8 col4\" >0.000000</td>\n",
       "      <td id=\"T_92e80_row8_col5\" class=\"data row8 col5\" >0.000000</td>\n",
       "      <td id=\"T_92e80_row8_col6\" class=\"data row8 col6\" >0.000000</td>\n",
       "      <td id=\"T_92e80_row8_col7\" class=\"data row8 col7\" >0.000000</td>\n",
       "      <td id=\"T_92e80_row8_col8\" class=\"data row8 col8\" >0.000000</td>\n",
       "    </tr>\n",
       "  </tbody>\n",
       "</table>\n"
      ],
      "text/plain": [
       "<pandas.io.formats.style.Styler at 0x7fa7469c38b0>"
      ]
     },
     "execution_count": 22,
     "metadata": {},
     "output_type": "execute_result"
    }
   ],
   "source": [
    "df = pd.DataFrame(prob_matrix, index = cpd.keys(), columns=cpd.keys())\n",
    "df.style.background_gradient(cmap = 'coolwarm')"
   ]
  },
  {
   "cell_type": "code",
   "execution_count": 23,
   "id": "6b8c69a3",
   "metadata": {},
   "outputs": [
    {
     "name": "stdout",
     "output_type": "stream",
     "text": [
      "['I', 'love', 'data', 'science', 'and', 'deep', 'know', 'this', 'i']\n",
      "[('I', 'love'), ('I', 'know'), ('love', 'data'), ('love', 'science'), ('data', 'science'), ('science', 'and'), ('and', 'deep'), ('know', 'this')]\n"
     ]
    }
   ],
   "source": [
    "prob_G = nx.from_pandas_adjacency(df)\n",
    "\n",
    "print(prob_G.nodes())\n",
    "print(prob_G.edges())"
   ]
  },
  {
   "cell_type": "code",
   "execution_count": 24,
   "id": "c7a1d1ee",
   "metadata": {},
   "outputs": [
    {
     "name": "stdout",
     "output_type": "stream",
     "text": [
      "{'weight': 2}\n",
      "{'weight': 1}\n",
      "{'weight': 0.6666666666666666}\n",
      "{'weight': 0.3333333333333333}\n"
     ]
    }
   ],
   "source": [
    "print(G.edges()[('I', 'love')])\n",
    "print(G.edges()[('I', 'know')])\n",
    "\n",
    "print(prob_G.edges()[('I', 'love')])\n",
    "print(prob_G.edges()[('I', 'know')])"
   ]
  },
  {
   "cell_type": "code",
   "execution_count": 25,
   "id": "3eb32866",
   "metadata": {},
   "outputs": [
    {
     "data": {
      "image/png": "[encoded data removed]",
      "text/plain": [
       "<Figure size 432x288 with 1 Axes>"
      ]
     },
     "metadata": {},
     "output_type": "display_data"
    }
   ],
   "source": [
    "nx.draw(prob_G, with_labels= True)"
   ]
  },
  {
   "cell_type": "code",
   "execution_count": 26,
   "id": "e9ded401",
   "metadata": {},
   "outputs": [
    {
     "data": {
      "text/plain": [
       "{'I': 0.25,\n",
       " 'love': 0.375,\n",
       " 'data': 0.25,\n",
       " 'science': 0.375,\n",
       " 'and': 0.25,\n",
       " 'deep': 0.125,\n",
       " 'know': 0.25,\n",
       " 'this': 0.125,\n",
       " 'i': 0.0}"
      ]
     },
     "execution_count": 26,
     "metadata": {},
     "output_type": "execute_result"
    }
   ],
   "source": [
    "nx.degree_centrality(G)"
   ]
  },
  {
   "cell_type": "markdown",
   "id": "f7d79e51",
   "metadata": {},
   "source": [
    "### 위세 중심성\n",
    "#### - 연결된 상대 단어의 중요성에 가중치를 둠"
   ]
  },
  {
   "cell_type": "code",
   "execution_count": 27,
   "id": "c420be97",
   "metadata": {},
   "outputs": [
    {
     "data": {
      "text/plain": [
       "{'I': 0.5055042648573065,\n",
       " 'love': 0.6195557831651917,\n",
       " 'data': 0.35703593885196566,\n",
       " 'science': 0.39841035839294925,\n",
       " 'and': 0.15933837227495717,\n",
       " 'deep': 0.055886131430398216,\n",
       " 'know': 0.20216573350291445,\n",
       " 'this': 0.07090581134630142,\n",
       " 'i': 3.726204087562662e-15}"
      ]
     },
     "execution_count": 27,
     "metadata": {},
     "output_type": "execute_result"
    }
   ],
   "source": [
    "nx.eigenvector_centrality(G, weight= 'weight')"
   ]
  },
  {
   "cell_type": "markdown",
   "id": "801109ca",
   "metadata": {},
   "source": [
    "### 근접 중심성\n",
    "#### - 한 단어가 다른 단어에 얼마나 가깝게 있는지를 측정하는 지표"
   ]
  },
  {
   "cell_type": "code",
   "execution_count": 28,
   "id": "8e9791cb",
   "metadata": {},
   "outputs": [
    {
     "data": {
      "text/plain": [
       "{'I': 0.30624999999999997,\n",
       " 'love': 0.3828125,\n",
       " 'data': 0.3223684210526316,\n",
       " 'science': 0.3602941176470588,\n",
       " 'and': 0.29166666666666663,\n",
       " 'deep': 0.22685185185185183,\n",
       " 'know': 0.25520833333333337,\n",
       " 'this': 0.20416666666666666,\n",
       " 'i': 0.0}"
      ]
     },
     "execution_count": 28,
     "metadata": {},
     "output_type": "execute_result"
    }
   ],
   "source": [
    "nx.closeness_centrality(G, distance='weight')"
   ]
  },
  {
   "cell_type": "markdown",
   "id": "6f2abd22",
   "metadata": {},
   "source": [
    "### 매개 중심성\n",
    "#### - 한 단어가 단어들과의 연결망을 구축하는데 얼마나 도음을 주는지 측정하는 지표"
   ]
  },
  {
   "cell_type": "code",
   "execution_count": 29,
   "id": "a9228ecd",
   "metadata": {},
   "outputs": [
    {
     "data": {
      "text/plain": [
       "{'I': 0.3571428571428571,\n",
       " 'love': 0.42857142857142855,\n",
       " 'data': 0.0,\n",
       " 'science': 0.3571428571428571,\n",
       " 'and': 0.21428571428571427,\n",
       " 'deep': 0.0,\n",
       " 'know': 0.21428571428571427,\n",
       " 'this': 0.0,\n",
       " 'i': 0.0}"
      ]
     },
     "execution_count": 29,
     "metadata": {},
     "output_type": "execute_result"
    }
   ],
   "source": [
    "nx.betweenness_centrality(G)"
   ]
  },
  {
   "cell_type": "markdown",
   "id": "21a0de67",
   "metadata": {},
   "source": [
    "### PageRank\n",
    "#### - 웹과 같은 하이퍼링크 구조를 가지는 문서에 상대적 중요도에 따라 가중치를 부여하는 방법"
   ]
  },
  {
   "cell_type": "code",
   "execution_count": 30,
   "id": "999af189",
   "metadata": {},
   "outputs": [
    {
     "data": {
      "text/plain": [
       "{'I': 0.1508530392484172,\n",
       " 'love': 0.19142450609119482,\n",
       " 'data': 0.10288937806402959,\n",
       " 'science': 0.1546126684901673,\n",
       " 'and': 0.1218884745785058,\n",
       " 'deep': 0.07020724314978419,\n",
       " 'know': 0.12022144782401037,\n",
       " 'this': 0.06949833457843065,\n",
       " 'i': 0.018404907975460127}"
      ]
     },
     "execution_count": 30,
     "metadata": {},
     "output_type": "execute_result"
    }
   ],
   "source": [
    "nx.pagerank(G)"
   ]
  },
  {
   "cell_type": "code",
   "execution_count": 31,
   "id": "1897f169",
   "metadata": {},
   "outputs": [],
   "source": [
    "def get_node_size(node_values):\n",
    "    nsize = np.array([v for v in node_values])\n",
    "    nsize = 1000 * (nsize - min(nsize)) / (max(nsize)- min(nsize))\n",
    "    return nsize"
   ]
  },
  {
   "cell_type": "code",
   "execution_count": 39,
   "id": "ece7c15a",
   "metadata": {},
   "outputs": [
    {
     "data": {
      "image/png": "[encoded data removed]",
      "text/plain": [
       "<Figure size 1008x1440 with 6 Axes>"
      ]
     },
     "metadata": {},
     "output_type": "display_data"
    }
   ],
   "source": [
    "import matplotlib.pyplot as plt\n",
    "#plt.style.use('seaborn-whtie')\n",
    "\n",
    "dc = nx.degree_centrality(G).values()\n",
    "ec = nx.eigenvector_centrality(G, weight='weight').values()\n",
    "cc = nx.closeness_centrality(G, distance='weight').values()\n",
    "bc = nx.betweenness_centrality(G).values()\n",
    "pr = nx.pagerank(G).values()\n",
    "\n",
    "plt.figure(figsize=(14,20))\n",
    "plt.axis('off')\n",
    "\n",
    "plt.subplot(321)\n",
    "plt.title('Normal', fontsize= 16)\n",
    "nx.draw_networkx(G, font_size=16, alpha=0.7, cmap=plt.cm.Blues)\n",
    "\n",
    "\n",
    "plt.subplot(322)\n",
    "plt.title('Degree Centrality', fontsize= 16)\n",
    "nx.draw_networkx(G, font_size=16,\n",
    "                node_color=list(dc), node_size=get_node_size(dc),\n",
    "                alpha=0.7, cmap = plt.cm.Blues)\n",
    "\n",
    "plt.subplot(323)\n",
    "plt.title('Eigenvector Centrality', fontsize= 16)\n",
    "nx.draw_networkx(G, font_size=16,\n",
    "                node_color=list(ec), node_size=get_node_size(ec),\n",
    "                alpha=0.7, cmap = plt.cm.Blues)\n",
    "\n",
    "plt.subplot(324)\n",
    "plt.title('Closeness Centrality', fontsize= 16)\n",
    "nx.draw_networkx(G, font_size=16,\n",
    "                node_color=list(cc), node_size=get_node_size(cc),\n",
    "                alpha=0.7, cmap = plt.cm.Blues)\n",
    "\n",
    "plt.subplot(325)\n",
    "plt.title('Betweenness Centrality', fontsize= 16)\n",
    "nx.draw_networkx(G, font_size=16,\n",
    "                node_color=list(bc), node_size=get_node_size(bc),\n",
    "                alpha=0.7, cmap = plt.cm.Blues)\n",
    "\n",
    "plt.subplot(326)\n",
    "plt.title('PageRank', fontsize= 16)\n",
    "nx.draw_networkx(G, font_size=16,\n",
    "                node_color=list(pr), node_size=get_node_size(pr),\n",
    "                alpha=0.7, cmap = plt.cm.Blues)\n",
    "plt.show()"
   ]
  },
  {
   "cell_type": "raw",
   "id": "aa4268cc",
   "metadata": {},
   "source": [
    "pl = nx.planar_layout(G)\n",
    "frl = nx.fruchterman_reingold_layout(G)\n",
    "sl = nx.spectral_layout(G)\n",
    "rl = nx.random_layout(G)\n",
    "sl = nx.shell_layout(G)\n",
    "bl = nx.bipartite_layout(G)\n",
    "cl = nx.circular_layout(G)\n",
    "sl = nx.spring_layout(G)\n",
    "kkl = nx.kamada_kawai_layout(G)"
   ]
  }
 ],
 "metadata": {
  "kernelspec": {
   "display_name": "Python 3 (ipykernel)",
   "language": "python",
   "name": "python3"
  },
  "language_info": {
   "codemirror_mode": {
    "name": "ipython",
    "version": 3
   },
   "file_extension": ".py",
   "mimetype": "text/x-python",
   "name": "python",
   "nbconvert_exporter": "python",
   "pygments_lexer": "ipython3",
   "version": "3.8.12"
  }
 },
 "nbformat": 4,
 "nbformat_minor": 5
}

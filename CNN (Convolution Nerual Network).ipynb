{
 "cells": [
  {
   "cell_type": "markdown",
   "id": "53ca5562",
   "metadata": {},
   "source": [
    "## 합성곱 신경망 ( Convolution Neural Network )\n",
    "\n",
    "### 이미지 인식, 음성 인식 등에 자주 사용되는데 특히, 이미지 인식 분야에서 거의 모든 딥러닝 기술에 사용"
   ]
  },
  {
   "cell_type": "markdown",
   "id": "c2669884",
   "metadata": {},
   "source": [
    "### Read Data"
   ]
  },
  {
   "cell_type": "code",
   "execution_count": 1,
   "id": "19d8e741",
   "metadata": {},
   "outputs": [],
   "source": [
    "from tensorflow.keras.datasets import imdb\n",
    "from tensorflow.keras.preprocessing.sequence import pad_sequences\n",
    "from tensorflow.keras.models import Sequential\n",
    "from tensorflow.keras.optimizers import RMSprop\n",
    "from tensorflow.keras.layers import Dense, Embedding, Conv1D, MaxPooling1D, GlobalMaxPool1D"
   ]
  },
  {
   "cell_type": "code",
   "execution_count": 2,
   "id": "1de90b6b",
   "metadata": {},
   "outputs": [
    {
     "name": "stdout",
     "output_type": "stream",
     "text": [
      "25000\n",
      "25000\n"
     ]
    }
   ],
   "source": [
    "num_words = 10000\n",
    "max_len = 500\n",
    "batch_size = 32\n",
    "\n",
    "(input_train, y_train), (input_test, y_test) = imdb.load_data(num_words=num_words)\n",
    "\n",
    "print(len(input_train))\n",
    "print(len(input_test))"
   ]
  },
  {
   "cell_type": "code",
   "execution_count": 3,
   "id": "6d0087e8",
   "metadata": {},
   "outputs": [
    {
     "name": "stdout",
     "output_type": "stream",
     "text": [
      "(25000, 500)\n",
      "(25000, 500)\n"
     ]
    }
   ],
   "source": [
    "pax_x_train = pad_sequences(input_train, maxlen = max_len)\n",
    "pax_x_test = pad_sequences(input_test, maxlen = max_len)\n",
    "\n",
    "print(pax_x_train.shape)\n",
    "print(pax_x_test.shape)"
   ]
  },
  {
   "cell_type": "markdown",
   "id": "67aa9f5b",
   "metadata": {},
   "source": [
    "### Modeling"
   ]
  },
  {
   "cell_type": "code",
   "execution_count": 4,
   "id": "2de71950",
   "metadata": {},
   "outputs": [],
   "source": [
    "def build_model():\n",
    "    model = Sequential()\n",
    "    \n",
    "    model.add(Embedding(input_dim = num_words, output_dim = 32, input_length = max_len))\n",
    "    model.add(Conv1D(32, 7, activation='relu'))\n",
    "    model.add(MaxPooling1D(7))\n",
    "    model.add(Conv1D(32, 5, activation='relu'))\n",
    "    model.add(MaxPooling1D(5))\n",
    "    model.add(GlobalMaxPool1D())\n",
    "    model.add(Dense(1, activation='sigmoid'))\n",
    "    \n",
    "    model.compile(optimizer=RMSprop(learning_rate = 1e-4),\n",
    "                 loss = 'binary_crossentropy',\n",
    "                 metrics=['accuracy'])\n",
    "    \n",
    "    return model"
   ]
  },
  {
   "cell_type": "code",
   "execution_count": 5,
   "id": "19e1bacd",
   "metadata": {},
   "outputs": [
    {
     "name": "stdout",
     "output_type": "stream",
     "text": [
      "Model: \"sequential\"\n",
      "_________________________________________________________________\n",
      " Layer (type)                Output Shape              Param #   \n",
      "=================================================================\n",
      " embedding (Embedding)       (None, 500, 32)           320000    \n",
      "                                                                 \n",
      " conv1d (Conv1D)             (None, 494, 32)           7200      \n",
      "                                                                 \n",
      " max_pooling1d (MaxPooling1D  (None, 70, 32)           0         \n",
      " )                                                               \n",
      "                                                                 \n",
      " conv1d_1 (Conv1D)           (None, 66, 32)            5152      \n",
      "                                                                 \n",
      " max_pooling1d_1 (MaxPooling  (None, 13, 32)           0         \n",
      " 1D)                                                             \n",
      "                                                                 \n",
      " global_max_pooling1d (Globa  (None, 32)               0         \n",
      " lMaxPooling1D)                                                  \n",
      "                                                                 \n",
      " dense (Dense)               (None, 1)                 33        \n",
      "                                                                 \n",
      "=================================================================\n",
      "Total params: 332,385\n",
      "Trainable params: 332,385\n",
      "Non-trainable params: 0\n",
      "_________________________________________________________________\n"
     ]
    },
    {
     "name": "stderr",
     "output_type": "stream",
     "text": [
      "2022-01-20 13:07:45.617587: I tensorflow/core/platform/cpu_feature_guard.cc:151] This TensorFlow binary is optimized with oneAPI Deep Neural Network Library (oneDNN) to use the following CPU instructions in performance-critical operations:  AVX2 FMA\n",
      "To enable them in other operations, rebuild TensorFlow with the appropriate compiler flags.\n"
     ]
    }
   ],
   "source": [
    "model = build_model()\n",
    "model.summary()"
   ]
  },
  {
   "cell_type": "code",
   "execution_count": 6,
   "id": "c023a890",
   "metadata": {},
   "outputs": [
    {
     "name": "stdout",
     "output_type": "stream",
     "text": [
      "Epoch 1/30\n",
      "157/157 [==============================] - 6s 35ms/step - loss: 0.6929 - accuracy: 0.5142 - val_loss: 0.6929 - val_accuracy: 0.4972\n",
      "Epoch 2/30\n",
      "157/157 [==============================] - 6s 36ms/step - loss: 0.6908 - accuracy: 0.5770 - val_loss: 0.6917 - val_accuracy: 0.5672\n",
      "Epoch 3/30\n",
      "157/157 [==============================] - 5s 34ms/step - loss: 0.6883 - accuracy: 0.6441 - val_loss: 0.6904 - val_accuracy: 0.5198\n",
      "Epoch 4/30\n",
      "157/157 [==============================] - 5s 35ms/step - loss: 0.6845 - accuracy: 0.6972 - val_loss: 0.6860 - val_accuracy: 0.6612\n",
      "Epoch 5/30\n",
      "157/157 [==============================] - 6s 39ms/step - loss: 0.6762 - accuracy: 0.7655 - val_loss: 0.6736 - val_accuracy: 0.7404\n",
      "Epoch 6/30\n",
      "157/157 [==============================] - 6s 38ms/step - loss: 0.6553 - accuracy: 0.7781 - val_loss: 0.6416 - val_accuracy: 0.7736\n",
      "Epoch 7/30\n",
      "157/157 [==============================] - 7s 42ms/step - loss: 0.6074 - accuracy: 0.8010 - val_loss: 0.5787 - val_accuracy: 0.7978\n",
      "Epoch 8/30\n",
      "157/157 [==============================] - 6s 40ms/step - loss: 0.5299 - accuracy: 0.8199 - val_loss: 0.4984 - val_accuracy: 0.8140\n",
      "Epoch 9/30\n",
      "157/157 [==============================] - 6s 40ms/step - loss: 0.4461 - accuracy: 0.8396 - val_loss: 0.4284 - val_accuracy: 0.8316\n",
      "Epoch 10/30\n",
      "157/157 [==============================] - 6s 39ms/step - loss: 0.3802 - accuracy: 0.8554 - val_loss: 0.3850 - val_accuracy: 0.8392\n",
      "Epoch 11/30\n",
      "157/157 [==============================] - 6s 39ms/step - loss: 0.3365 - accuracy: 0.8704 - val_loss: 0.3627 - val_accuracy: 0.8454\n",
      "Epoch 12/30\n",
      "157/157 [==============================] - 6s 38ms/step - loss: 0.3066 - accuracy: 0.8798 - val_loss: 0.3463 - val_accuracy: 0.8532\n",
      "Epoch 13/30\n",
      "157/157 [==============================] - 6s 38ms/step - loss: 0.2839 - accuracy: 0.8892 - val_loss: 0.3372 - val_accuracy: 0.8566\n",
      "Epoch 14/30\n",
      "157/157 [==============================] - 6s 38ms/step - loss: 0.2660 - accuracy: 0.8964 - val_loss: 0.3330 - val_accuracy: 0.8546\n",
      "Epoch 15/30\n",
      "157/157 [==============================] - 7s 42ms/step - loss: 0.2507 - accuracy: 0.9035 - val_loss: 0.3312 - val_accuracy: 0.8572\n",
      "Epoch 16/30\n",
      "157/157 [==============================] - 6s 41ms/step - loss: 0.2374 - accuracy: 0.9105 - val_loss: 0.3294 - val_accuracy: 0.8584\n",
      "Epoch 17/30\n",
      "157/157 [==============================] - 6s 39ms/step - loss: 0.2251 - accuracy: 0.9149 - val_loss: 0.3267 - val_accuracy: 0.8596\n",
      "Epoch 18/30\n",
      "157/157 [==============================] - 6s 38ms/step - loss: 0.2144 - accuracy: 0.9201 - val_loss: 0.3265 - val_accuracy: 0.8602\n",
      "Epoch 19/30\n",
      "157/157 [==============================] - 6s 39ms/step - loss: 0.2046 - accuracy: 0.9255 - val_loss: 0.3290 - val_accuracy: 0.8610\n",
      "Epoch 20/30\n",
      "157/157 [==============================] - 6s 39ms/step - loss: 0.1956 - accuracy: 0.9301 - val_loss: 0.3288 - val_accuracy: 0.8620\n",
      "Epoch 21/30\n",
      "157/157 [==============================] - 6s 41ms/step - loss: 0.1873 - accuracy: 0.9325 - val_loss: 0.3321 - val_accuracy: 0.8622\n",
      "Epoch 22/30\n",
      "157/157 [==============================] - 6s 41ms/step - loss: 0.1795 - accuracy: 0.9369 - val_loss: 0.3347 - val_accuracy: 0.8654\n",
      "Epoch 23/30\n",
      "157/157 [==============================] - 7s 42ms/step - loss: 0.1720 - accuracy: 0.9396 - val_loss: 0.3432 - val_accuracy: 0.8634\n",
      "Epoch 24/30\n",
      "157/157 [==============================] - 6s 41ms/step - loss: 0.1652 - accuracy: 0.9431 - val_loss: 0.3413 - val_accuracy: 0.8656\n",
      "Epoch 25/30\n",
      "157/157 [==============================] - 7s 42ms/step - loss: 0.1587 - accuracy: 0.9447 - val_loss: 0.3457 - val_accuracy: 0.8646\n",
      "Epoch 26/30\n",
      "157/157 [==============================] - 6s 41ms/step - loss: 0.1528 - accuracy: 0.9485 - val_loss: 0.3504 - val_accuracy: 0.8648\n",
      "Epoch 27/30\n",
      "157/157 [==============================] - 7s 42ms/step - loss: 0.1470 - accuracy: 0.9496 - val_loss: 0.3552 - val_accuracy: 0.8642\n",
      "Epoch 28/30\n",
      "157/157 [==============================] - 6s 40ms/step - loss: 0.1417 - accuracy: 0.9516 - val_loss: 0.3595 - val_accuracy: 0.8648\n",
      "Epoch 29/30\n",
      "157/157 [==============================] - 6s 40ms/step - loss: 0.1364 - accuracy: 0.9541 - val_loss: 0.3644 - val_accuracy: 0.8640\n",
      "Epoch 30/30\n",
      "157/157 [==============================] - 6s 41ms/step - loss: 0.1315 - accuracy: 0.9559 - val_loss: 0.3691 - val_accuracy: 0.8624\n"
     ]
    }
   ],
   "source": [
    "history = model.fit(pax_x_train, y_train,\n",
    "                   batch_size=128, epochs=30,\n",
    "                   validation_split=0.2)"
   ]
  },
  {
   "cell_type": "code",
   "execution_count": 7,
   "id": "65f242d4",
   "metadata": {},
   "outputs": [
    {
     "data": {
      "image/png": "[encoded data removed]",
      "text/plain": [
       "<Figure size 432x288 with 1 Axes>"
      ]
     },
     "metadata": {},
     "output_type": "display_data"
    },
    {
     "data": {
      "image/png": "[encoded data removed]",
      "text/plain": [
       "<Figure size 432x288 with 1 Axes>"
      ]
     },
     "metadata": {},
     "output_type": "display_data"
    }
   ],
   "source": [
    "import matplotlib.pyplot as plt\n",
    "plt.style.use('seaborn-white')\n",
    "\n",
    "loss = history.history['loss']\n",
    "val_loss = history.history['val_loss']\n",
    "acc = history.history['accuracy']\n",
    "val_acc = history.history['val_accuracy']\n",
    "\n",
    "epochs = range(1, len(loss) + 1)\n",
    "\n",
    "plt.plot(epochs, loss, 'b--', label = 'training loss')\n",
    "plt.plot(epochs, val_loss, 'r:', label = 'validation loss')\n",
    "plt.grid()\n",
    "plt.legend()\n",
    "\n",
    "plt.figure()\n",
    "plt.plot(epochs, acc, 'b--', label = 'training accuracy')\n",
    "plt.plot(epochs, val_acc, 'r:', label = 'validation accuracy')\n",
    "plt.grid()\n",
    "plt.legend()\n",
    "\n",
    "plt.show()"
   ]
  },
  {
   "cell_type": "code",
   "execution_count": 8,
   "id": "a906ae42",
   "metadata": {},
   "outputs": [
    {
     "name": "stdout",
     "output_type": "stream",
     "text": [
      "782/782 [==============================] - 4s 5ms/step - loss: 0.3884 - accuracy: 0.8474\n"
     ]
    },
    {
     "data": {
      "text/plain": [
       "[0.3883667588233948, 0.8474000096321106]"
      ]
     },
     "execution_count": 8,
     "metadata": {},
     "output_type": "execute_result"
    }
   ],
   "source": [
    "model.evaluate(pax_x_test, y_test)"
   ]
  },
  {
   "cell_type": "markdown",
   "id": "e90a0447",
   "metadata": {},
   "source": [
    "### Read_data"
   ]
  },
  {
   "cell_type": "code",
   "execution_count": 9,
   "id": "d2bc6abd",
   "metadata": {},
   "outputs": [],
   "source": [
    "from tensorflow.keras.datasets import reuters"
   ]
  },
  {
   "cell_type": "code",
   "execution_count": 10,
   "id": "7fa2082d",
   "metadata": {},
   "outputs": [
    {
     "name": "stdout",
     "output_type": "stream",
     "text": [
      "8982\n",
      "2246\n"
     ]
    }
   ],
   "source": [
    "num_words = 10000\n",
    "max_len = 500\n",
    "batch_size = 32\n",
    "\n",
    "(input_train, y_train), (input_test, y_test) = reuters.load_data(num_words = num_words)\n",
    "\n",
    "print(len(input_train))\n",
    "print(len(input_test))"
   ]
  },
  {
   "cell_type": "code",
   "execution_count": 11,
   "id": "685ad413",
   "metadata": {},
   "outputs": [
    {
     "name": "stdout",
     "output_type": "stream",
     "text": [
      "(8982, 500)\n",
      "(2246, 500)\n"
     ]
    }
   ],
   "source": [
    "pad_x_train = pad_sequences(input_train, maxlen=max_len)\n",
    "pad_x_test = pad_sequences(input_test, maxlen = max_len)\n",
    "\n",
    "print(pad_x_train.shape)\n",
    "print(pad_x_test.shape)"
   ]
  },
  {
   "cell_type": "markdown",
   "id": "ce996966",
   "metadata": {},
   "source": [
    "### Modeling"
   ]
  },
  {
   "cell_type": "code",
   "execution_count": 12,
   "id": "f3a6e288",
   "metadata": {},
   "outputs": [],
   "source": [
    "def build_model():\n",
    "    model = Sequential()\n",
    "    \n",
    "    model.add(Embedding(input_dim = num_words, output_dim=32, input_length=max_len))\n",
    "    model.add(Conv1D(32, 7, activation = 'relu'))\n",
    "    model.add(MaxPooling1D(7))\n",
    "    model.add(Conv1D(32, 5, activation = 'relu'))\n",
    "    model.add(MaxPooling1D(5))\n",
    "    model.add(GlobalMaxPool1D())\n",
    "    model.add(Dense(1, activation = 'softmax'))\n",
    "    \n",
    "    model.compile(optimizer='adam',\n",
    "                 loss = 'sparse_categorical_crossentropy',\n",
    "                 metrics = ['accuracy'])\n",
    "    return model"
   ]
  },
  {
   "cell_type": "code",
   "execution_count": 13,
   "id": "1a94ec29",
   "metadata": {},
   "outputs": [
    {
     "name": "stdout",
     "output_type": "stream",
     "text": [
      "Model: \"sequential_1\"\n",
      "_________________________________________________________________\n",
      " Layer (type)                Output Shape              Param #   \n",
      "=================================================================\n",
      " embedding_1 (Embedding)     (None, 500, 32)           320000    \n",
      "                                                                 \n",
      " conv1d_2 (Conv1D)           (None, 494, 32)           7200      \n",
      "                                                                 \n",
      " max_pooling1d_2 (MaxPooling  (None, 70, 32)           0         \n",
      " 1D)                                                             \n",
      "                                                                 \n",
      " conv1d_3 (Conv1D)           (None, 66, 32)            5152      \n",
      "                                                                 \n",
      " max_pooling1d_3 (MaxPooling  (None, 13, 32)           0         \n",
      " 1D)                                                             \n",
      "                                                                 \n",
      " global_max_pooling1d_1 (Glo  (None, 32)               0         \n",
      " balMaxPooling1D)                                                \n",
      "                                                                 \n",
      " dense_1 (Dense)             (None, 1)                 33        \n",
      "                                                                 \n",
      "=================================================================\n",
      "Total params: 332,385\n",
      "Trainable params: 332,385\n",
      "Non-trainable params: 0\n",
      "_________________________________________________________________\n"
     ]
    }
   ],
   "source": [
    "model = build_model()\n",
    "model.summary()"
   ]
  },
  {
   "cell_type": "code",
   "execution_count": 14,
   "id": "c07c38db",
   "metadata": {},
   "outputs": [
    {
     "name": "stdout",
     "output_type": "stream",
     "text": [
      "Epoch 1/30\n"
     ]
    },
    {
     "name": "stderr",
     "output_type": "stream",
     "text": [
      "2022-01-20 13:10:57.059175: W tensorflow/core/framework/op_kernel.cc:1745] OP_REQUIRES failed at sparse_xent_op.cc:103 : INVALID_ARGUMENT: Received a label value of 43 which is outside the valid range of [0, 1).  Label values: 16 24 3 16 3 3 31 3 3 4 3 20 4 4 4 3 3 4 16 3 3 4 3 3 3 4 3 19 3 39 21 19 3 4 16 3 3 3 3 3 11 4 4 4 14 11 13 4 3 1 16 4 3 9 3 4 3 3 3 4 1 11 8 3 34 11 4 3 25 3 3 3 10 4 16 3 14 3 3 4 12 20 19 40 3 19 16 3 43 11 1 3 3 11 4 4 3 10 4 3 19 3 11 3 3 17 16 36 3 8 3 3 3 4 3 19 3 28 3 3 9 20 16 19 8 3 13 4\n"
     ]
    },
    {
     "ename": "InvalidArgumentError",
     "evalue": " Received a label value of 43 which is outside the valid range of [0, 1).  Label values: 16 24 3 16 3 3 31 3 3 4 3 20 4 4 4 3 3 4 16 3 3 4 3 3 3 4 3 19 3 39 21 19 3 4 16 3 3 3 3 3 11 4 4 4 14 11 13 4 3 1 16 4 3 9 3 4 3 3 3 4 1 11 8 3 34 11 4 3 25 3 3 3 10 4 16 3 14 3 3 4 12 20 19 40 3 19 16 3 43 11 1 3 3 11 4 4 3 10 4 3 19 3 11 3 3 17 16 36 3 8 3 3 3 4 3 19 3 28 3 3 9 20 16 19 8 3 13 4\n\t [[node sparse_categorical_crossentropy/SparseSoftmaxCrossEntropyWithLogits/SparseSoftmaxCrossEntropyWithLogits\n (defined at /Users/jody/opt/anaconda3/lib/python3.8/site-packages/keras/backend.py:5113)\n]] [Op:__inference_train_function_29443]\n\nErrors may have originated from an input operation.\nInput Source operations connected to node sparse_categorical_crossentropy/SparseSoftmaxCrossEntropyWithLogits/SparseSoftmaxCrossEntropyWithLogits:\nIn[0] sparse_categorical_crossentropy/Reshape_1 (defined at /Users/jody/opt/anaconda3/lib/python3.8/site-packages/keras/backend.py:5109)\t\nIn[1] sparse_categorical_crossentropy/Reshape (defined at /Users/jody/opt/anaconda3/lib/python3.8/site-packages/keras/backend.py:3561)\n\nOperation defined at: (most recent call last)\n>>>   File \"/Users/jody/opt/anaconda3/lib/python3.8/runpy.py\", line 194, in _run_module_as_main\n>>>     return _run_code(code, main_globals, None,\n>>> \n>>>   File \"/Users/jody/opt/anaconda3/lib/python3.8/runpy.py\", line 87, in _run_code\n>>>     exec(code, run_globals)\n>>> \n>>>   File \"/Users/jody/opt/anaconda3/lib/python3.8/site-packages/ipykernel_launcher.py\", line 16, in <module>\n>>>     app.launch_new_instance()\n>>> \n>>>   File \"/Users/jody/opt/anaconda3/lib/python3.8/site-packages/traitlets/config/application.py\", line 846, in launch_instance\n>>>     app.start()\n>>> \n>>>   File \"/Users/jody/opt/anaconda3/lib/python3.8/site-packages/ipykernel/kernelapp.py\", line 677, in start\n>>>     self.io_loop.start()\n>>> \n>>>   File \"/Users/jody/opt/anaconda3/lib/python3.8/site-packages/tornado/platform/asyncio.py\", line 199, in start\n>>>     self.asyncio_loop.run_forever()\n>>> \n>>>   File \"/Users/jody/opt/anaconda3/lib/python3.8/asyncio/base_events.py\", line 570, in run_forever\n>>>     self._run_once()\n>>> \n>>>   File \"/Users/jody/opt/anaconda3/lib/python3.8/asyncio/base_events.py\", line 1859, in _run_once\n>>>     handle._run()\n>>> \n>>>   File \"/Users/jody/opt/anaconda3/lib/python3.8/asyncio/events.py\", line 81, in _run\n>>>     self._context.run(self._callback, *self._args)\n>>> \n>>>   File \"/Users/jody/opt/anaconda3/lib/python3.8/site-packages/ipykernel/kernelbase.py\", line 457, in dispatch_queue\n>>>     await self.process_one()\n>>> \n>>>   File \"/Users/jody/opt/anaconda3/lib/python3.8/site-packages/ipykernel/kernelbase.py\", line 446, in process_one\n>>>     await dispatch(*args)\n>>> \n>>>   File \"/Users/jody/opt/anaconda3/lib/python3.8/site-packages/ipykernel/kernelbase.py\", line 353, in dispatch_shell\n>>>     await result\n>>> \n>>>   File \"/Users/jody/opt/anaconda3/lib/python3.8/site-packages/ipykernel/kernelbase.py\", line 648, in execute_request\n>>>     reply_content = await reply_content\n>>> \n>>>   File \"/Users/jody/opt/anaconda3/lib/python3.8/site-packages/ipykernel/ipkernel.py\", line 353, in do_execute\n>>>     res = shell.run_cell(code, store_history=store_history, silent=silent)\n>>> \n>>>   File \"/Users/jody/opt/anaconda3/lib/python3.8/site-packages/ipykernel/zmqshell.py\", line 533, in run_cell\n>>>     return super(ZMQInteractiveShell, self).run_cell(*args, **kwargs)\n>>> \n>>>   File \"/Users/jody/opt/anaconda3/lib/python3.8/site-packages/IPython/core/interactiveshell.py\", line 2901, in run_cell\n>>>     result = self._run_cell(\n>>> \n>>>   File \"/Users/jody/opt/anaconda3/lib/python3.8/site-packages/IPython/core/interactiveshell.py\", line 2947, in _run_cell\n>>>     return runner(coro)\n>>> \n>>>   File \"/Users/jody/opt/anaconda3/lib/python3.8/site-packages/IPython/core/async_helpers.py\", line 68, in _pseudo_sync_runner\n>>>     coro.send(None)\n>>> \n>>>   File \"/Users/jody/opt/anaconda3/lib/python3.8/site-packages/IPython/core/interactiveshell.py\", line 3172, in run_cell_async\n>>>     has_raised = await self.run_ast_nodes(code_ast.body, cell_name,\n>>> \n>>>   File \"/Users/jody/opt/anaconda3/lib/python3.8/site-packages/IPython/core/interactiveshell.py\", line 3364, in run_ast_nodes\n>>>     if (await self.run_code(code, result,  async_=asy)):\n>>> \n>>>   File \"/Users/jody/opt/anaconda3/lib/python3.8/site-packages/IPython/core/interactiveshell.py\", line 3444, in run_code\n>>>     exec(code_obj, self.user_global_ns, self.user_ns)\n>>> \n>>>   File \"/var/folders/xb/jj9xzp2d6v37h6nvn74k10p00000gn/T/ipykernel_1153/1990310173.py\", line 1, in <module>\n>>>     history = model.fit(pad_x_train, y_train,\n>>> \n>>>   File \"/Users/jody/opt/anaconda3/lib/python3.8/site-packages/keras/utils/traceback_utils.py\", line 64, in error_handler\n>>>     return fn(*args, **kwargs)\n>>> \n>>>   File \"/Users/jody/opt/anaconda3/lib/python3.8/site-packages/keras/engine/training.py\", line 1216, in fit\n>>>     tmp_logs = self.train_function(iterator)\n>>> \n>>>   File \"/Users/jody/opt/anaconda3/lib/python3.8/site-packages/keras/engine/training.py\", line 878, in train_function\n>>>     return step_function(self, iterator)\n>>> \n>>>   File \"/Users/jody/opt/anaconda3/lib/python3.8/site-packages/keras/engine/training.py\", line 867, in step_function\n>>>     outputs = model.distribute_strategy.run(run_step, args=(data,))\n>>> \n>>>   File \"/Users/jody/opt/anaconda3/lib/python3.8/site-packages/keras/engine/training.py\", line 860, in run_step\n>>>     outputs = model.train_step(data)\n>>> \n>>>   File \"/Users/jody/opt/anaconda3/lib/python3.8/site-packages/keras/engine/training.py\", line 809, in train_step\n>>>     loss = self.compiled_loss(\n>>> \n>>>   File \"/Users/jody/opt/anaconda3/lib/python3.8/site-packages/keras/engine/compile_utils.py\", line 201, in __call__\n>>>     loss_value = loss_obj(y_t, y_p, sample_weight=sw)\n>>> \n>>>   File \"/Users/jody/opt/anaconda3/lib/python3.8/site-packages/keras/losses.py\", line 141, in __call__\n>>>     losses = call_fn(y_true, y_pred)\n>>> \n>>>   File \"/Users/jody/opt/anaconda3/lib/python3.8/site-packages/keras/losses.py\", line 245, in call\n>>>     return ag_fn(y_true, y_pred, **self._fn_kwargs)\n>>> \n>>>   File \"/Users/jody/opt/anaconda3/lib/python3.8/site-packages/keras/losses.py\", line 1737, in sparse_categorical_crossentropy\n>>>     return backend.sparse_categorical_crossentropy(\n>>> \n>>>   File \"/Users/jody/opt/anaconda3/lib/python3.8/site-packages/keras/backend.py\", line 5113, in sparse_categorical_crossentropy\n>>>     res = tf.nn.sparse_softmax_cross_entropy_with_logits(\n>>> ",
     "output_type": "error",
     "traceback": [
      "\u001b[0;31m---------------------------------------------------------------------------\u001b[0m",
      "\u001b[0;31mInvalidArgumentError\u001b[0m                      Traceback (most recent call last)",
      "\u001b[0;32m/var/folders/xb/jj9xzp2d6v37h6nvn74k10p00000gn/T/ipykernel_1153/1990310173.py\u001b[0m in \u001b[0;36m<module>\u001b[0;34m\u001b[0m\n\u001b[0;32m----> 1\u001b[0;31m history = model.fit(pad_x_train, y_train,\n\u001b[0m\u001b[1;32m      2\u001b[0m                    \u001b[0mbatch_size\u001b[0m\u001b[0;34m=\u001b[0m\u001b[0;36m128\u001b[0m\u001b[0;34m,\u001b[0m \u001b[0mepochs\u001b[0m\u001b[0;34m=\u001b[0m\u001b[0;36m30\u001b[0m\u001b[0;34m,\u001b[0m\u001b[0;34m\u001b[0m\u001b[0;34m\u001b[0m\u001b[0m\n\u001b[1;32m      3\u001b[0m                    validation_split=0.2)\n",
      "\u001b[0;32m~/opt/anaconda3/lib/python3.8/site-packages/keras/utils/traceback_utils.py\u001b[0m in \u001b[0;36merror_handler\u001b[0;34m(*args, **kwargs)\u001b[0m\n\u001b[1;32m     65\u001b[0m     \u001b[0;32mexcept\u001b[0m \u001b[0mException\u001b[0m \u001b[0;32mas\u001b[0m \u001b[0me\u001b[0m\u001b[0;34m:\u001b[0m  \u001b[0;31m# pylint: disable=broad-except\u001b[0m\u001b[0;34m\u001b[0m\u001b[0;34m\u001b[0m\u001b[0m\n\u001b[1;32m     66\u001b[0m       \u001b[0mfiltered_tb\u001b[0m \u001b[0;34m=\u001b[0m \u001b[0m_process_traceback_frames\u001b[0m\u001b[0;34m(\u001b[0m\u001b[0me\u001b[0m\u001b[0;34m.\u001b[0m\u001b[0m__traceback__\u001b[0m\u001b[0;34m)\u001b[0m\u001b[0;34m\u001b[0m\u001b[0;34m\u001b[0m\u001b[0m\n\u001b[0;32m---> 67\u001b[0;31m       \u001b[0;32mraise\u001b[0m \u001b[0me\u001b[0m\u001b[0;34m.\u001b[0m\u001b[0mwith_traceback\u001b[0m\u001b[0;34m(\u001b[0m\u001b[0mfiltered_tb\u001b[0m\u001b[0;34m)\u001b[0m \u001b[0;32mfrom\u001b[0m \u001b[0;32mNone\u001b[0m\u001b[0;34m\u001b[0m\u001b[0;34m\u001b[0m\u001b[0m\n\u001b[0m\u001b[1;32m     68\u001b[0m     \u001b[0;32mfinally\u001b[0m\u001b[0;34m:\u001b[0m\u001b[0;34m\u001b[0m\u001b[0;34m\u001b[0m\u001b[0m\n\u001b[1;32m     69\u001b[0m       \u001b[0;32mdel\u001b[0m \u001b[0mfiltered_tb\u001b[0m\u001b[0;34m\u001b[0m\u001b[0;34m\u001b[0m\u001b[0m\n",
      "\u001b[0;32m~/opt/anaconda3/lib/python3.8/site-packages/tensorflow/python/eager/execute.py\u001b[0m in \u001b[0;36mquick_execute\u001b[0;34m(op_name, num_outputs, inputs, attrs, ctx, name)\u001b[0m\n\u001b[1;32m     56\u001b[0m   \u001b[0;32mtry\u001b[0m\u001b[0;34m:\u001b[0m\u001b[0;34m\u001b[0m\u001b[0;34m\u001b[0m\u001b[0m\n\u001b[1;32m     57\u001b[0m     \u001b[0mctx\u001b[0m\u001b[0;34m.\u001b[0m\u001b[0mensure_initialized\u001b[0m\u001b[0;34m(\u001b[0m\u001b[0;34m)\u001b[0m\u001b[0;34m\u001b[0m\u001b[0;34m\u001b[0m\u001b[0m\n\u001b[0;32m---> 58\u001b[0;31m     tensors = pywrap_tfe.TFE_Py_Execute(ctx._handle, device_name, op_name,\n\u001b[0m\u001b[1;32m     59\u001b[0m                                         inputs, attrs, num_outputs)\n\u001b[1;32m     60\u001b[0m   \u001b[0;32mexcept\u001b[0m \u001b[0mcore\u001b[0m\u001b[0;34m.\u001b[0m\u001b[0m_NotOkStatusException\u001b[0m \u001b[0;32mas\u001b[0m \u001b[0me\u001b[0m\u001b[0;34m:\u001b[0m\u001b[0;34m\u001b[0m\u001b[0;34m\u001b[0m\u001b[0m\n",
      "\u001b[0;31mInvalidArgumentError\u001b[0m:  Received a label value of 43 which is outside the valid range of [0, 1).  Label values: 16 24 3 16 3 3 31 3 3 4 3 20 4 4 4 3 3 4 16 3 3 4 3 3 3 4 3 19 3 39 21 19 3 4 16 3 3 3 3 3 11 4 4 4 14 11 13 4 3 1 16 4 3 9 3 4 3 3 3 4 1 11 8 3 34 11 4 3 25 3 3 3 10 4 16 3 14 3 3 4 12 20 19 40 3 19 16 3 43 11 1 3 3 11 4 4 3 10 4 3 19 3 11 3 3 17 16 36 3 8 3 3 3 4 3 19 3 28 3 3 9 20 16 19 8 3 13 4\n\t [[node sparse_categorical_crossentropy/SparseSoftmaxCrossEntropyWithLogits/SparseSoftmaxCrossEntropyWithLogits\n (defined at /Users/jody/opt/anaconda3/lib/python3.8/site-packages/keras/backend.py:5113)\n]] [Op:__inference_train_function_29443]\n\nErrors may have originated from an input operation.\nInput Source operations connected to node sparse_categorical_crossentropy/SparseSoftmaxCrossEntropyWithLogits/SparseSoftmaxCrossEntropyWithLogits:\nIn[0] sparse_categorical_crossentropy/Reshape_1 (defined at /Users/jody/opt/anaconda3/lib/python3.8/site-packages/keras/backend.py:5109)\t\nIn[1] sparse_categorical_crossentropy/Reshape (defined at /Users/jody/opt/anaconda3/lib/python3.8/site-packages/keras/backend.py:3561)\n\nOperation defined at: (most recent call last)\n>>>   File \"/Users/jody/opt/anaconda3/lib/python3.8/runpy.py\", line 194, in _run_module_as_main\n>>>     return _run_code(code, main_globals, None,\n>>> \n>>>   File \"/Users/jody/opt/anaconda3/lib/python3.8/runpy.py\", line 87, in _run_code\n>>>     exec(code, run_globals)\n>>> \n>>>   File \"/Users/jody/opt/anaconda3/lib/python3.8/site-packages/ipykernel_launcher.py\", line 16, in <module>\n>>>     app.launch_new_instance()\n>>> \n>>>   File \"/Users/jody/opt/anaconda3/lib/python3.8/site-packages/traitlets/config/application.py\", line 846, in launch_instance\n>>>     app.start()\n>>> \n>>>   File \"/Users/jody/opt/anaconda3/lib/python3.8/site-packages/ipykernel/kernelapp.py\", line 677, in start\n>>>     self.io_loop.start()\n>>> \n>>>   File \"/Users/jody/opt/anaconda3/lib/python3.8/site-packages/tornado/platform/asyncio.py\", line 199, in start\n>>>     self.asyncio_loop.run_forever()\n>>> \n>>>   File \"/Users/jody/opt/anaconda3/lib/python3.8/asyncio/base_events.py\", line 570, in run_forever\n>>>     self._run_once()\n>>> \n>>>   File \"/Users/jody/opt/anaconda3/lib/python3.8/asyncio/base_events.py\", line 1859, in _run_once\n>>>     handle._run()\n>>> \n>>>   File \"/Users/jody/opt/anaconda3/lib/python3.8/asyncio/events.py\", line 81, in _run\n>>>     self._context.run(self._callback, *self._args)\n>>> \n>>>   File \"/Users/jody/opt/anaconda3/lib/python3.8/site-packages/ipykernel/kernelbase.py\", line 457, in dispatch_queue\n>>>     await self.process_one()\n>>> \n>>>   File \"/Users/jody/opt/anaconda3/lib/python3.8/site-packages/ipykernel/kernelbase.py\", line 446, in process_one\n>>>     await dispatch(*args)\n>>> \n>>>   File \"/Users/jody/opt/anaconda3/lib/python3.8/site-packages/ipykernel/kernelbase.py\", line 353, in dispatch_shell\n>>>     await result\n>>> \n>>>   File \"/Users/jody/opt/anaconda3/lib/python3.8/site-packages/ipykernel/kernelbase.py\", line 648, in execute_request\n>>>     reply_content = await reply_content\n>>> \n>>>   File \"/Users/jody/opt/anaconda3/lib/python3.8/site-packages/ipykernel/ipkernel.py\", line 353, in do_execute\n>>>     res = shell.run_cell(code, store_history=store_history, silent=silent)\n>>> \n>>>   File \"/Users/jody/opt/anaconda3/lib/python3.8/site-packages/ipykernel/zmqshell.py\", line 533, in run_cell\n>>>     return super(ZMQInteractiveShell, self).run_cell(*args, **kwargs)\n>>> \n>>>   File \"/Users/jody/opt/anaconda3/lib/python3.8/site-packages/IPython/core/interactiveshell.py\", line 2901, in run_cell\n>>>     result = self._run_cell(\n>>> \n>>>   File \"/Users/jody/opt/anaconda3/lib/python3.8/site-packages/IPython/core/interactiveshell.py\", line 2947, in _run_cell\n>>>     return runner(coro)\n>>> \n>>>   File \"/Users/jody/opt/anaconda3/lib/python3.8/site-packages/IPython/core/async_helpers.py\", line 68, in _pseudo_sync_runner\n>>>     coro.send(None)\n>>> \n>>>   File \"/Users/jody/opt/anaconda3/lib/python3.8/site-packages/IPython/core/interactiveshell.py\", line 3172, in run_cell_async\n>>>     has_raised = await self.run_ast_nodes(code_ast.body, cell_name,\n>>> \n>>>   File \"/Users/jody/opt/anaconda3/lib/python3.8/site-packages/IPython/core/interactiveshell.py\", line 3364, in run_ast_nodes\n>>>     if (await self.run_code(code, result,  async_=asy)):\n>>> \n>>>   File \"/Users/jody/opt/anaconda3/lib/python3.8/site-packages/IPython/core/interactiveshell.py\", line 3444, in run_code\n>>>     exec(code_obj, self.user_global_ns, self.user_ns)\n>>> \n>>>   File \"/var/folders/xb/jj9xzp2d6v37h6nvn74k10p00000gn/T/ipykernel_1153/1990310173.py\", line 1, in <module>\n>>>     history = model.fit(pad_x_train, y_train,\n>>> \n>>>   File \"/Users/jody/opt/anaconda3/lib/python3.8/site-packages/keras/utils/traceback_utils.py\", line 64, in error_handler\n>>>     return fn(*args, **kwargs)\n>>> \n>>>   File \"/Users/jody/opt/anaconda3/lib/python3.8/site-packages/keras/engine/training.py\", line 1216, in fit\n>>>     tmp_logs = self.train_function(iterator)\n>>> \n>>>   File \"/Users/jody/opt/anaconda3/lib/python3.8/site-packages/keras/engine/training.py\", line 878, in train_function\n>>>     return step_function(self, iterator)\n>>> \n>>>   File \"/Users/jody/opt/anaconda3/lib/python3.8/site-packages/keras/engine/training.py\", line 867, in step_function\n>>>     outputs = model.distribute_strategy.run(run_step, args=(data,))\n>>> \n>>>   File \"/Users/jody/opt/anaconda3/lib/python3.8/site-packages/keras/engine/training.py\", line 860, in run_step\n>>>     outputs = model.train_step(data)\n>>> \n>>>   File \"/Users/jody/opt/anaconda3/lib/python3.8/site-packages/keras/engine/training.py\", line 809, in train_step\n>>>     loss = self.compiled_loss(\n>>> \n>>>   File \"/Users/jody/opt/anaconda3/lib/python3.8/site-packages/keras/engine/compile_utils.py\", line 201, in __call__\n>>>     loss_value = loss_obj(y_t, y_p, sample_weight=sw)\n>>> \n>>>   File \"/Users/jody/opt/anaconda3/lib/python3.8/site-packages/keras/losses.py\", line 141, in __call__\n>>>     losses = call_fn(y_true, y_pred)\n>>> \n>>>   File \"/Users/jody/opt/anaconda3/lib/python3.8/site-packages/keras/losses.py\", line 245, in call\n>>>     return ag_fn(y_true, y_pred, **self._fn_kwargs)\n>>> \n>>>   File \"/Users/jody/opt/anaconda3/lib/python3.8/site-packages/keras/losses.py\", line 1737, in sparse_categorical_crossentropy\n>>>     return backend.sparse_categorical_crossentropy(\n>>> \n>>>   File \"/Users/jody/opt/anaconda3/lib/python3.8/site-packages/keras/backend.py\", line 5113, in sparse_categorical_crossentropy\n>>>     res = tf.nn.sparse_softmax_cross_entropy_with_logits(\n>>> "
     ]
    }
   ],
   "source": [
    "history = model.fit(pad_x_train, y_train,\n",
    "                   batch_size=128, epochs=30,\n",
    "                   validation_split=0.2)"
   ]
  },
  {
   "cell_type": "markdown",
   "id": "83933407",
   "metadata": {},
   "source": [
    "### EDA"
   ]
  },
  {
   "cell_type": "code",
   "execution_count": null,
   "id": "27630d7b",
   "metadata": {},
   "outputs": [],
   "source": [
    "import matplotlib.pyplot as plt\n",
    "plt.style.use('seaborn-white')\n",
    "\n",
    "loss = history.history['loss']\n",
    "val_loss = history.history['val_loss']\n",
    "acc = history.history['accuracy']\n",
    "val_acc = history.history['val_accuracy']\n",
    "\n",
    "epochs = range(1, len(loss) + 1)\n",
    "\n",
    "plt.plot(epochs, loss, 'b--', label = 'training loss')\n",
    "plt.plot(epochs, val_loss, 'r:', label = 'validation loss')\n",
    "plt.grid()\n",
    "plt.legend()\n",
    "\n",
    "plt.figure()\n",
    "plt.plot(epochs, acc, 'b--', label = 'training accuracy')\n",
    "plt.plot(epochs, val_acc, 'r:', label = 'validation accuracy')\n",
    "plt.grid()\n",
    "plt.legend()\n",
    "\n",
    "plt.show()"
   ]
  },
  {
   "cell_type": "markdown",
   "id": "2d4f4d22",
   "metadata": {},
   "source": [
    "### Evaluation"
   ]
  },
  {
   "cell_type": "code",
   "execution_count": null,
   "id": "2e64a4b6",
   "metadata": {},
   "outputs": [],
   "source": [
    "model.evaluate(pad_x_test, y_test)"
   ]
  },
  {
   "cell_type": "code",
   "execution_count": null,
   "id": "9868fa1b",
   "metadata": {},
   "outputs": [],
   "source": []
  }
 ],
 "metadata": {
  "kernelspec": {
   "display_name": "Python 3 (ipykernel)",
   "language": "python",
   "name": "python3"
  },
  "language_info": {
   "codemirror_mode": {
    "name": "ipython",
    "version": 3
   },
   "file_extension": ".py",
   "mimetype": "text/x-python",
   "name": "python",
   "nbconvert_exporter": "python",
   "pygments_lexer": "ipython3",
   "version": "3.8.12"
  }
 },
 "nbformat": 4,
 "nbformat_minor": 5
}

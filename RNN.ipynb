{
 "cells": [
  {
   "cell_type": "markdown",
   "id": "7768891d",
   "metadata": {},
   "source": [
    "RNN (순환 신경망)\n",
    "\n",
    "- 순서가 있는 데이터를 입력으로 받음\n",
    "- 변화하는 입력에 대한 출력을 얻음\n",
    "- 시계열(날씨, 추가 등), 자연어와 같이 시간의 흐름에 따라 변화하고, 그 변화가 의미를 갖는 데이터"
   ]
  },
  {
   "cell_type": "markdown",
   "id": "e774c730",
   "metadata": {},
   "source": [
    "Feed Foward Network (앞먹임 구조)\n",
    "\n",
    "- 일반적인 구조의 신경망\n",
    "- 입력 > 은닉 > 출력층으로 이어지는 단방향 구조\n",
    "- 이전 스텝의 출력의 영향을 받지 않음\n",
    "\n",
    "Recurrent Net (되먹임 구조)\n",
    "\n",
    "- 이전 층 (Layer), 또는 스텝의 출력이 다시 입력으로 연결되는 신경망 구조\n",
    "- 각 스텝마다 이전 상태를 기억 시스템 (Memory System)\n",
    "- 현재 상태가 이전 상태에 종속"
   ]
  },
  {
   "cell_type": "markdown",
   "id": "5151ea18",
   "metadata": {},
   "source": [
    "### RNN\n",
    "\n",
    "#### 입력 : timesteps, input_features\n",
    "#### 출력 : timesteps, output_features"
   ]
  },
  {
   "cell_type": "code",
   "execution_count": 1,
   "id": "56a77bc0",
   "metadata": {},
   "outputs": [],
   "source": [
    "import numpy as np"
   ]
  },
  {
   "cell_type": "code",
   "execution_count": 5,
   "id": "912790fc",
   "metadata": {},
   "outputs": [],
   "source": [
    "timesteps = 100\n",
    "input_features = 32\n",
    "output_features = 64\n",
    "\n",
    "inputs = np.random.random((timesteps, input_features))\n",
    "\n",
    "state_t = np.zeros((output_features, ))\n",
    "\n",
    "W = np.random.random((output_features, input_features))\n",
    "U = np.random.random((output_features, output_features))\n",
    "b = np.random.random((output_features,))\n",
    "\n",
    "succesive_outputs = []\n",
    "\n",
    "for input_t in inputs:\n",
    "    output_t = np.tanh(np.dot(W, input_t) + np.dot(U, state_t) + b)\n",
    "    succesive_outputs.append(output_t)\n",
    "    state_t = output_t\n",
    "    \n",
    "final_output_sequence = np.stack(succesive_outputs, axis = 0) ## stack = concatenate"
   ]
  },
  {
   "cell_type": "markdown",
   "id": "e02e8dea",
   "metadata": {},
   "source": [
    "### Keras RNN\n",
    "\n",
    "#### SimpleRNN layer\n",
    "#### 입력 : (batch_size, timesteps, input_features)\n",
    "#### 출력 : return_sequences로 결정할 수 있음 \n",
    "####          3D Tensor - 타임스텝의 출력을 모은 전체 시퀀스를 반환 (batch_size, timesteps, output_features)\n",
    "####          2D Tensor - 입력 시퀀스에 대한 마지막 출력만 반환 (batch_size, output_features)"
   ]
  },
  {
   "cell_type": "code",
   "execution_count": 6,
   "id": "2545adb5",
   "metadata": {},
   "outputs": [],
   "source": [
    "from tensorflow.keras.layers import SimpleRNN, Embedding\n",
    "from tensorflow.keras.models import Sequential"
   ]
  },
  {
   "cell_type": "code",
   "execution_count": 7,
   "id": "54b1ee4a",
   "metadata": {},
   "outputs": [
    {
     "name": "stdout",
     "output_type": "stream",
     "text": [
      "Model: \"sequential\"\n",
      "_________________________________________________________________\n",
      " Layer (type)                Output Shape              Param #   \n",
      "=================================================================\n",
      " embedding (Embedding)       (None, None, 32)          320000    \n",
      "                                                                 \n",
      " simple_rnn (SimpleRNN)      (None, 32)                2080      \n",
      "                                                                 \n",
      "=================================================================\n",
      "Total params: 322,080\n",
      "Trainable params: 322,080\n",
      "Non-trainable params: 0\n",
      "_________________________________________________________________\n"
     ]
    },
    {
     "name": "stderr",
     "output_type": "stream",
     "text": [
      "2022-01-19 14:08:10.011113: I tensorflow/core/platform/cpu_feature_guard.cc:151] This TensorFlow binary is optimized with oneAPI Deep Neural Network Library (oneDNN) to use the following CPU instructions in performance-critical operations:  AVX2 FMA\n",
      "To enable them in other operations, rebuild TensorFlow with the appropriate compiler flags.\n"
     ]
    }
   ],
   "source": [
    "model = Sequential()\n",
    "model.add(Embedding(10000, 32))\n",
    "model.add(SimpleRNN(32))\n",
    "model.summary()"
   ]
  },
  {
   "cell_type": "code",
   "execution_count": 8,
   "id": "99f1f87f",
   "metadata": {},
   "outputs": [
    {
     "name": "stdout",
     "output_type": "stream",
     "text": [
      "Model: \"sequential_1\"\n",
      "_________________________________________________________________\n",
      " Layer (type)                Output Shape              Param #   \n",
      "=================================================================\n",
      " embedding_1 (Embedding)     (None, None, 32)          320000    \n",
      "                                                                 \n",
      " simple_rnn_1 (SimpleRNN)    (None, None, 32)          2080      \n",
      "                                                                 \n",
      "=================================================================\n",
      "Total params: 322,080\n",
      "Trainable params: 322,080\n",
      "Non-trainable params: 0\n",
      "_________________________________________________________________\n"
     ]
    }
   ],
   "source": [
    "model = Sequential()\n",
    "model.add(Embedding(10000, 32))\n",
    "model.add(SimpleRNN(32, return_sequences=True))\n",
    "model.summary()"
   ]
  },
  {
   "cell_type": "code",
   "execution_count": 10,
   "id": "5d031be3",
   "metadata": {},
   "outputs": [
    {
     "name": "stdout",
     "output_type": "stream",
     "text": [
      "Model: \"sequential_3\"\n",
      "_________________________________________________________________\n",
      " Layer (type)                Output Shape              Param #   \n",
      "=================================================================\n",
      " embedding_3 (Embedding)     (None, None, 32)          320000    \n",
      "                                                                 \n",
      " simple_rnn_2 (SimpleRNN)    (None, None, 32)          2080      \n",
      "                                                                 \n",
      " simple_rnn_3 (SimpleRNN)    (None, None, 32)          2080      \n",
      "                                                                 \n",
      " simple_rnn_4 (SimpleRNN)    (None, None, 32)          2080      \n",
      "                                                                 \n",
      " simple_rnn_5 (SimpleRNN)    (None, 32)                2080      \n",
      "                                                                 \n",
      "=================================================================\n",
      "Total params: 328,320\n",
      "Trainable params: 328,320\n",
      "Non-trainable params: 0\n",
      "_________________________________________________________________\n"
     ]
    }
   ],
   "source": [
    "model = Sequential()\n",
    "model.add(Embedding(10000, 32))\n",
    "model.add(SimpleRNN(32, return_sequences = True))\n",
    "model.add(SimpleRNN(32, return_sequences = True))\n",
    "model.add(SimpleRNN(32, return_sequences = True))\n",
    "model.add(SimpleRNN(32))\n",
    "model.summary()"
   ]
  },
  {
   "cell_type": "markdown",
   "id": "69a3df74",
   "metadata": {},
   "source": [
    "## Read Data"
   ]
  },
  {
   "cell_type": "code",
   "execution_count": 11,
   "id": "160e87cf",
   "metadata": {},
   "outputs": [],
   "source": [
    "from tensorflow.keras.datasets import imdb\n",
    "from tensorflow.keras.preprocessing import sequence"
   ]
  },
  {
   "cell_type": "code",
   "execution_count": 15,
   "id": "5f722fc5",
   "metadata": {},
   "outputs": [
    {
     "name": "stdout",
     "output_type": "stream",
     "text": [
      "25000\n",
      "25000\n",
      "(25000, 500)\n",
      "(25000, 500)\n"
     ]
    }
   ],
   "source": [
    "num_words = 10000\n",
    "max_len = 500\n",
    "batch_size = 32\n",
    "\n",
    "(input_train, y_train), (input_test, y_test) = imdb.load_data(num_words=num_words)\n",
    "print(len(input_train))\n",
    "print(len(input_test))\n",
    "\n",
    "## padding (길이를 맞춰주는것)\n",
    "\n",
    "input_train = sequence.pad_sequences(input_train, maxlen = max_len)\n",
    "input_test = sequence.pad_sequences(input_test, maxlen = max_len)\n",
    "print(input_train.shape)\n",
    "print(input_test.shape)"
   ]
  },
  {
   "cell_type": "markdown",
   "id": "047dc3c0",
   "metadata": {},
   "source": [
    "## Modeling"
   ]
  },
  {
   "cell_type": "code",
   "execution_count": 16,
   "id": "1d60f960",
   "metadata": {},
   "outputs": [],
   "source": [
    "from tensorflow.keras.layers import Dense"
   ]
  },
  {
   "cell_type": "code",
   "execution_count": 22,
   "id": "a1339e09",
   "metadata": {},
   "outputs": [
    {
     "name": "stdout",
     "output_type": "stream",
     "text": [
      "Model: \"sequential_9\"\n",
      "_________________________________________________________________\n",
      " Layer (type)                Output Shape              Param #   \n",
      "=================================================================\n",
      " embedding_9 (Embedding)     (None, None, 32)          320000    \n",
      "                                                                 \n",
      " simple_rnn_11 (SimpleRNN)   (None, 32)                2080      \n",
      "                                                                 \n",
      " dense_5 (Dense)             (None, 1)                 33        \n",
      "                                                                 \n",
      "=================================================================\n",
      "Total params: 322,113\n",
      "Trainable params: 322,113\n",
      "Non-trainable params: 0\n",
      "_________________________________________________________________\n"
     ]
    }
   ],
   "source": [
    "model = Sequential()\n",
    "\n",
    "model.add(Embedding(num_words, 32))\n",
    "model.add(SimpleRNN(32))\n",
    "model.add(Dense(1, activation = 'sigmoid'))\n",
    "\n",
    "model.compile(optimizer = 'rmsprop',\n",
    "             loss = 'binary_crossentropy',\n",
    "             metrics = ['acc'])\n",
    "model.summary()"
   ]
  },
  {
   "cell_type": "markdown",
   "id": "31275c40",
   "metadata": {},
   "source": [
    "#### Model training"
   ]
  },
  {
   "cell_type": "code",
   "execution_count": 23,
   "id": "84abe471",
   "metadata": {},
   "outputs": [
    {
     "name": "stdout",
     "output_type": "stream",
     "text": [
      "Epoch 1/10\n",
      "157/157 [==============================] - 14s 87ms/step - loss: 0.6577 - acc: 0.5897 - val_loss: 0.5138 - val_acc: 0.7560\n",
      "Epoch 2/10\n",
      "157/157 [==============================] - 13s 85ms/step - loss: 0.4181 - acc: 0.8178 - val_loss: 0.3910 - val_acc: 0.8324\n",
      "Epoch 3/10\n",
      "157/157 [==============================] - 13s 84ms/step - loss: 0.3071 - acc: 0.8773 - val_loss: 0.5732 - val_acc: 0.7750\n",
      "Epoch 4/10\n",
      "157/157 [==============================] - 13s 85ms/step - loss: 0.2477 - acc: 0.9047 - val_loss: 0.3803 - val_acc: 0.8554\n",
      "Epoch 5/10\n",
      "157/157 [==============================] - 13s 85ms/step - loss: 0.1896 - acc: 0.9299 - val_loss: 0.3632 - val_acc: 0.8622\n",
      "Epoch 6/10\n",
      "157/157 [==============================] - 13s 86ms/step - loss: 0.1612 - acc: 0.9431 - val_loss: 0.4867 - val_acc: 0.8288\n",
      "Epoch 7/10\n",
      "157/157 [==============================] - 14s 89ms/step - loss: 0.0931 - acc: 0.9701 - val_loss: 0.4779 - val_acc: 0.8286\n",
      "Epoch 8/10\n",
      "157/157 [==============================] - 14s 88ms/step - loss: 0.0641 - acc: 0.9797 - val_loss: 0.4892 - val_acc: 0.8376\n",
      "Epoch 9/10\n",
      "157/157 [==============================] - 14s 88ms/step - loss: 0.0446 - acc: 0.9866 - val_loss: 0.6174 - val_acc: 0.7968\n",
      "Epoch 10/10\n",
      "157/157 [==============================] - 14s 88ms/step - loss: 0.0300 - acc: 0.9906 - val_loss: 0.5585 - val_acc: 0.8350\n"
     ]
    }
   ],
   "source": [
    "history = model.fit(input_train, y_train,\n",
    "                   epochs=10,\n",
    "                   batch_size=128,\n",
    "                   validation_split=0.2)"
   ]
  },
  {
   "cell_type": "markdown",
   "id": "195eaa3c",
   "metadata": {},
   "source": [
    "## EDA"
   ]
  },
  {
   "cell_type": "code",
   "execution_count": 26,
   "id": "3a25a426",
   "metadata": {},
   "outputs": [],
   "source": [
    "import matplotlib.pyplot as plt\n",
    "plt.style.use('seaborn-white')"
   ]
  },
  {
   "cell_type": "code",
   "execution_count": 28,
   "id": "30478af5",
   "metadata": {},
   "outputs": [
    {
     "data": {
      "image/png": "[encoded data removed]",
      "text/plain": [
       "<Figure size 432x288 with 1 Axes>"
      ]
     },
     "metadata": {},
     "output_type": "display_data"
    },
    {
     "data": {
      "image/png": "[encoded data removed]",
      "text/plain": [
       "<Figure size 432x288 with 1 Axes>"
      ]
     },
     "metadata": {},
     "output_type": "display_data"
    }
   ],
   "source": [
    "loss = history.history['loss']\n",
    "val_loss = history.history['val_loss']\n",
    "acc = history.history['acc']\n",
    "val_acc = history.history['val_acc']\n",
    "\n",
    "epochs = range(1, len(loss) +1)\n",
    "\n",
    "plt.plot(epochs, loss, 'b--', label = 'training loss')\n",
    "plt.plot(epochs, val_loss, 'r:', label = 'validation loss')\n",
    "plt.grid()\n",
    "plt.legend()\n",
    "\n",
    "plt.figure()\n",
    "plt.plot(epochs, acc, 'b--', label = 'training loss')\n",
    "plt.plot(epochs, val_acc, 'r:', label = 'validation loss')\n",
    "plt.grid()\n",
    "plt.legend()\n",
    "\n",
    "plt.show()"
   ]
  },
  {
   "cell_type": "code",
   "execution_count": 29,
   "id": "2366e1a5",
   "metadata": {},
   "outputs": [
    {
     "name": "stdout",
     "output_type": "stream",
     "text": [
      "782/782 [==============================] - 11s 14ms/step - loss: 0.5821 - acc: 0.8291\n"
     ]
    },
    {
     "data": {
      "text/plain": [
       "[0.5821483135223389, 0.8290799856185913]"
      ]
     },
     "execution_count": 29,
     "metadata": {},
     "output_type": "execute_result"
    }
   ],
   "source": [
    "model.evaluate(input_test, y_test)"
   ]
  },
  {
   "cell_type": "markdown",
   "id": "19c23e26",
   "metadata": {},
   "source": [
    "## LSTM (Long Short - Term Memory)\n",
    "### 장단기 메모리 알고리즘\n",
    "### 나중을 위해 정보를 저장함으로써 오래된 시그널이 점차 소실되는 것을 막아줌"
   ]
  },
  {
   "cell_type": "code",
   "execution_count": 30,
   "id": "bca67499",
   "metadata": {},
   "outputs": [],
   "source": [
    "from tensorflow.keras.datasets import imdb\n",
    "from tensorflow.keras.preprocessing.sequence import pad_sequences"
   ]
  },
  {
   "cell_type": "code",
   "execution_count": 37,
   "id": "7a483d31",
   "metadata": {},
   "outputs": [
    {
     "name": "stdout",
     "output_type": "stream",
     "text": [
      "25000\n",
      "25000\n",
      "(25000, 500)\n",
      "(25000, 500)\n"
     ]
    }
   ],
   "source": [
    "num_words = 10000\n",
    "max_len = 500\n",
    "\n",
    "(x_train, y_train), (x_test, y_test) = imdb.load_data(num_words = num_words)\n",
    "print(len(input_train))\n",
    "print(len(input_test))\n",
    "\n",
    "pad_x_train = sequence.pad_sequences(x_train, maxlen = max_len)\n",
    "pad_x_test = sequence.pad_sequences(x_test, maxlen = max_len)\n",
    "print(pad_x_train.shape)\n",
    "print(pad_x_test.shape)"
   ]
  },
  {
   "cell_type": "markdown",
   "id": "1170d6da",
   "metadata": {},
   "source": [
    "### Modeling"
   ]
  },
  {
   "cell_type": "code",
   "execution_count": 32,
   "id": "f77249c9",
   "metadata": {},
   "outputs": [],
   "source": [
    "from tensorflow.keras.models import Sequential\n",
    "from tensorflow.keras.layers import Dense, LSTM, GRU, Embedding"
   ]
  },
  {
   "cell_type": "code",
   "execution_count": 34,
   "id": "9a40926f",
   "metadata": {},
   "outputs": [
    {
     "name": "stdout",
     "output_type": "stream",
     "text": [
      "Model: \"sequential_11\"\n",
      "_________________________________________________________________\n",
      " Layer (type)                Output Shape              Param #   \n",
      "=================================================================\n",
      " embedding_11 (Embedding)    (None, None, 32)          320000    \n",
      "                                                                 \n",
      " lstm_1 (LSTM)               (None, 32)                8320      \n",
      "                                                                 \n",
      " dense_7 (Dense)             (None, 1)                 33        \n",
      "                                                                 \n",
      "=================================================================\n",
      "Total params: 328,353\n",
      "Trainable params: 328,353\n",
      "Non-trainable params: 0\n",
      "_________________________________________________________________\n"
     ]
    }
   ],
   "source": [
    "model = Sequential()\n",
    "\n",
    "model.add(Embedding(num_words, 32))\n",
    "model.add(LSTM(32))\n",
    "model.add(Dense(1, activation = 'sigmoid'))\n",
    "\n",
    "model.compile(optimizer='rmsprop',\n",
    "             loss = 'binary_crossentropy',\n",
    "             metrics = ['acc'])\n",
    "model.summary()"
   ]
  },
  {
   "cell_type": "code",
   "execution_count": 38,
   "id": "aaec68b8",
   "metadata": {},
   "outputs": [
    {
     "name": "stdout",
     "output_type": "stream",
     "text": [
      "Epoch 1/10\n",
      "157/157 [==============================] - 24s 145ms/step - loss: 0.5008 - acc: 0.7591 - val_loss: 0.5971 - val_acc: 0.7638\n",
      "Epoch 2/10\n",
      "157/157 [==============================] - 23s 146ms/step - loss: 0.2910 - acc: 0.8868 - val_loss: 0.8254 - val_acc: 0.7344\n",
      "Epoch 3/10\n",
      "157/157 [==============================] - 23s 148ms/step - loss: 0.2367 - acc: 0.9094 - val_loss: 0.2902 - val_acc: 0.8912\n",
      "Epoch 4/10\n",
      "157/157 [==============================] - 23s 146ms/step - loss: 0.1992 - acc: 0.9263 - val_loss: 0.3084 - val_acc: 0.8630\n",
      "Epoch 5/10\n",
      "157/157 [==============================] - 23s 145ms/step - loss: 0.1818 - acc: 0.9344 - val_loss: 0.3646 - val_acc: 0.8444\n",
      "Epoch 6/10\n",
      "157/157 [==============================] - 23s 150ms/step - loss: 0.1594 - acc: 0.9423 - val_loss: 0.3062 - val_acc: 0.8804\n",
      "Epoch 7/10\n",
      "157/157 [==============================] - 23s 148ms/step - loss: 0.1509 - acc: 0.9472 - val_loss: 0.3152 - val_acc: 0.8858\n",
      "Epoch 8/10\n",
      "157/157 [==============================] - 23s 147ms/step - loss: 0.1331 - acc: 0.9524 - val_loss: 0.3156 - val_acc: 0.8840\n",
      "Epoch 9/10\n",
      "157/157 [==============================] - 24s 153ms/step - loss: 0.1233 - acc: 0.9569 - val_loss: 0.3596 - val_acc: 0.8760\n",
      "Epoch 10/10\n",
      "157/157 [==============================] - 24s 154ms/step - loss: 0.1138 - acc: 0.9602 - val_loss: 0.3759 - val_acc: 0.8806\n"
     ]
    }
   ],
   "source": [
    "history = model.fit(pad_x_train, y_train,\n",
    "                   epochs=10,\n",
    "                   batch_size=128,\n",
    "                   validation_split=0.2)"
   ]
  },
  {
   "cell_type": "code",
   "execution_count": 39,
   "id": "10ab6fa8",
   "metadata": {},
   "outputs": [
    {
     "data": {
      "image/png": "[encoded data removed]",
      "text/plain": [
       "<Figure size 432x288 with 1 Axes>"
      ]
     },
     "metadata": {},
     "output_type": "display_data"
    },
    {
     "data": {
      "image/png": "[encoded data removed]",
      "text/plain": [
       "<Figure size 432x288 with 1 Axes>"
      ]
     },
     "metadata": {},
     "output_type": "display_data"
    }
   ],
   "source": [
    "loss = history.history['loss']\n",
    "val_loss = history.history['val_loss']\n",
    "acc = history.history['acc']\n",
    "val_acc = history.history['val_acc']\n",
    "\n",
    "epochs = range(1, len(loss) +1)\n",
    "\n",
    "plt.plot(epochs, loss, 'b--', label = 'training loss')\n",
    "plt.plot(epochs, val_loss, 'r:', label = 'validation loss')\n",
    "plt.grid()\n",
    "plt.legend()\n",
    "\n",
    "plt.figure()\n",
    "plt.plot(epochs, acc, 'b--', label = 'training loss')\n",
    "plt.plot(epochs, val_acc, 'r:', label = 'validation loss')\n",
    "plt.grid()\n",
    "plt.legend()\n",
    "\n",
    "plt.show()"
   ]
  },
  {
   "cell_type": "markdown",
   "id": "b05b99b5",
   "metadata": {},
   "source": [
    "### Model Evaluate"
   ]
  },
  {
   "cell_type": "code",
   "execution_count": 40,
   "id": "7d6b5fea",
   "metadata": {},
   "outputs": [
    {
     "name": "stdout",
     "output_type": "stream",
     "text": [
      "782/782 [==============================] - 16s 21ms/step - loss: 0.4185 - acc: 0.8605\n"
     ]
    },
    {
     "data": {
      "text/plain": [
       "[0.41853103041648865, 0.860480010509491]"
      ]
     },
     "execution_count": 40,
     "metadata": {},
     "output_type": "execute_result"
    }
   ],
   "source": [
    "model.evaluate(pad_x_test, y_test)"
   ]
  },
  {
   "cell_type": "markdown",
   "id": "6049c588",
   "metadata": {},
   "source": [
    "## GRU (Gated Recurrent Unit)\n",
    "\n",
    "### LSTM을 더 단순하게 만든 구조\n",
    "### 기억 셀은 없고, 시간방향으로 전파하는 것은 은닉 상태만 있음"
   ]
  },
  {
   "cell_type": "markdown",
   "id": "170e7db8",
   "metadata": {},
   "source": [
    "### reset gate\n",
    "\n",
    "#### - 과거의 은닉 상태를 얼마나 무시할지를 결정\n",
    "#### - R 값이 결정\n",
    "\n",
    "### update gate\n",
    "\n",
    "#### - 은닉 상태를 갱신하는 게이트\n",
    "#### - LSTM의 forget, input gate 역할을 동시에 함"
   ]
  },
  {
   "cell_type": "markdown",
   "id": "1c69240e",
   "metadata": {},
   "source": [
    "## Read Data"
   ]
  },
  {
   "cell_type": "code",
   "execution_count": 41,
   "id": "28b0f43e",
   "metadata": {},
   "outputs": [],
   "source": [
    "from tensorflow.keras.datasets import reuters"
   ]
  },
  {
   "cell_type": "code",
   "execution_count": 42,
   "id": "307c3e47",
   "metadata": {},
   "outputs": [
    {
     "name": "stdout",
     "output_type": "stream",
     "text": [
      "Downloading data from https://storage.googleapis.com/tensorflow/tf-keras-datasets/reuters.npz\n",
      "2113536/2110848 [==============================] - 0s 0us/step\n",
      "2121728/2110848 [==============================] - 0s 0us/step\n",
      "(8982,)\n",
      "(8982,)\n",
      "(2246,)\n",
      "(2246,)\n"
     ]
    }
   ],
   "source": [
    "num_words = 10000\n",
    "(x_train, y_train), (x_test, y_test) = reuters.load_data(num_words = num_words)\n",
    "\n",
    "print(x_train.shape)\n",
    "print(y_train.shape)\n",
    "\n",
    "print(x_test.shape)\n",
    "print(y_test.shape)"
   ]
  },
  {
   "cell_type": "code",
   "execution_count": 43,
   "id": "268c8cef",
   "metadata": {},
   "outputs": [],
   "source": [
    "from tensorflow.keras.preprocessing.sequence import pad_sequences"
   ]
  },
  {
   "cell_type": "code",
   "execution_count": 44,
   "id": "fda9da3c",
   "metadata": {},
   "outputs": [],
   "source": [
    "max_len = 300"
   ]
  },
  {
   "cell_type": "code",
   "execution_count": 46,
   "id": "fb45ceef",
   "metadata": {},
   "outputs": [
    {
     "name": "stdout",
     "output_type": "stream",
     "text": [
      "300\n"
     ]
    }
   ],
   "source": [
    "pad_x_train = pad_sequences(x_train, maxlen = max_len)\n",
    "pad_x_test = pad_sequences(x_test, maxlen = max_len)\n",
    "\n",
    "print(len(pad_x_train[0]))"
   ]
  },
  {
   "cell_type": "code",
   "execution_count": 47,
   "id": "5fd63696",
   "metadata": {},
   "outputs": [
    {
     "data": {
      "text/plain": [
       "array([   0,    0,    0,    0,    0,    0,    0,    0,    0,    0,    0,\n",
       "          0,    0,    0,    0,    0,    0,    0,    0,    0,    0,    0,\n",
       "          0,    0,    0,    0,    0,    0,    0,    0,    0,    0,    0,\n",
       "          0,    0,    0,    0,    0,    0,    0,    0,    0,    0,    0,\n",
       "          0,    0,    0,    0,    0,    0,    0,    0,    0,    0,    0,\n",
       "          0,    0,    0,    0,    0,    0,    0,    0,    0,    0,    0,\n",
       "          0,    0,    0,    0,    0,    0,    0,    0,    0,    0,    0,\n",
       "          0,    0,    0,    0,    0,    0,    0,    0,    0,    0,    0,\n",
       "          0,    0,    0,    0,    0,    0,    0,    0,    0,    0,    0,\n",
       "          0,    0,    0,    0,    0,    0,    0,    0,    0,    0,    0,\n",
       "          0,    0,    0,    0,    0,    0,    0,    0,    0,    0,    0,\n",
       "          0,    0,    0,    0,    0,    0,    0,    0,    0,    0,    0,\n",
       "          0,    0,    0,    0,    0,    0,    0,    0,    0,    0,    0,\n",
       "          0,    0,    0,    0,    0,    0,    0,    0,    0,    0,    0,\n",
       "          0,    0,    0,    0,    0,    0,    0,    0,    0,    0,    0,\n",
       "          0,    0,    0,    0,    0,    0,    0,    0,    0,    0,    0,\n",
       "          0,    0,    0,    0,    0,    0,    0,    0,    0,    0,    0,\n",
       "          0,    0,    0,    0,    0,    0,    0,    0,    0,    0,    0,\n",
       "          0,    0,    0,    0,    0,    0,    0,    0,    0,    0,    0,\n",
       "          0,    0,    0,    0,    1,    2,    2,    8,   43,   10,  447,\n",
       "          5,   25,  207,  270,    5, 3095,  111,   16,  369,  186,   90,\n",
       "         67,    7,   89,    5,   19,  102,    6,   19,  124,   15,   90,\n",
       "         67,   84,   22,  482,   26,    7,   48,    4,   49,    8,  864,\n",
       "         39,  209,  154,    6,  151,    6,   83,   11,   15,   22,  155,\n",
       "         11,   15,    7,   48,    9, 4579, 1005,  504,    6,  258,    6,\n",
       "        272,   11,   15,   22,  134,   44,   11,   15,   16,    8,  197,\n",
       "       1245,   90,   67,   52,   29,  209,   30,   32,  132,    6,  109,\n",
       "         15,   17,   12], dtype=int32)"
      ]
     },
     "execution_count": 47,
     "metadata": {},
     "output_type": "execute_result"
    }
   ],
   "source": [
    "pad_x_train[0]"
   ]
  },
  {
   "cell_type": "markdown",
   "id": "dafb0627",
   "metadata": {},
   "source": [
    "## Modeling"
   ]
  },
  {
   "cell_type": "code",
   "execution_count": 48,
   "id": "5b1225e7",
   "metadata": {},
   "outputs": [],
   "source": [
    "from tensorflow.keras.models import Sequential\n",
    "from tensorflow.keras.layers import GRU, Dense, Embedding"
   ]
  },
  {
   "cell_type": "code",
   "execution_count": 50,
   "id": "0c9022ee",
   "metadata": {},
   "outputs": [
    {
     "name": "stdout",
     "output_type": "stream",
     "text": [
      "Model: \"sequential_13\"\n",
      "_________________________________________________________________\n",
      " Layer (type)                Output Shape              Param #   \n",
      "=================================================================\n",
      " embedding_12 (Embedding)    (None, None, 256)         2560000   \n",
      "                                                                 \n",
      " gru (GRU)                   (None, None, 256)         394752    \n",
      "                                                                 \n",
      " gru_1 (GRU)                 (None, 128)               148224    \n",
      "                                                                 \n",
      " dense_8 (Dense)             (None, 46)                5934      \n",
      "                                                                 \n",
      "=================================================================\n",
      "Total params: 3,108,910\n",
      "Trainable params: 3,108,910\n",
      "Non-trainable params: 0\n",
      "_________________________________________________________________\n"
     ]
    }
   ],
   "source": [
    "model = Sequential()\n",
    "model.add(Embedding(input_dim=num_words, output_dim=256))\n",
    "model.add(GRU(256, return_sequences=True))\n",
    "model.add(GRU(128))\n",
    "model.add(Dense(46, activation = 'softmax'))\n",
    "\n",
    "model.compile(optimizer='adam',\n",
    "             loss='sparse_categorical_crossentropy',\n",
    "             metrics=['acc'])\n",
    "\n",
    "model.summary()"
   ]
  },
  {
   "cell_type": "code",
   "execution_count": 51,
   "id": "0b322ede",
   "metadata": {},
   "outputs": [
    {
     "name": "stdout",
     "output_type": "stream",
     "text": [
      "Epoch 1/20\n",
      "225/225 [==============================] - 84s 362ms/step - loss: 2.0431 - acc: 0.4643 - val_loss: 1.8329 - val_acc: 0.5348\n",
      "Epoch 2/20\n",
      "225/225 [==============================] - 77s 342ms/step - loss: 1.5577 - acc: 0.6011 - val_loss: 1.5457 - val_acc: 0.6183\n",
      "Epoch 3/20\n",
      "225/225 [==============================] - 77s 343ms/step - loss: 1.3425 - acc: 0.6555 - val_loss: 1.4159 - val_acc: 0.6466\n",
      "Epoch 4/20\n",
      "225/225 [==============================] - 1653s 7s/step - loss: 1.0005 - acc: 0.7429 - val_loss: 1.3567 - val_acc: 0.6706\n",
      "Epoch 5/20\n",
      "225/225 [==============================] - 77s 341ms/step - loss: 0.7456 - acc: 0.8058 - val_loss: 1.3566 - val_acc: 0.6828\n",
      "Epoch 6/20\n",
      "225/225 [==============================] - 868s 4s/step - loss: 0.5530 - acc: 0.8592 - val_loss: 1.3783 - val_acc: 0.6867\n",
      "Epoch 7/20\n",
      "225/225 [==============================] - 80s 357ms/step - loss: 0.4123 - acc: 0.8976 - val_loss: 1.4339 - val_acc: 0.7023\n",
      "Epoch 8/20\n",
      "225/225 [==============================] - 1931s 9s/step - loss: 0.3113 - acc: 0.9208 - val_loss: 1.4895 - val_acc: 0.6984\n",
      "Epoch 9/20\n",
      "225/225 [==============================] - 79s 353ms/step - loss: 0.2493 - acc: 0.9376 - val_loss: 1.6232 - val_acc: 0.6834\n",
      "Epoch 10/20\n",
      "225/225 [==============================] - 79s 351ms/step - loss: 0.2042 - acc: 0.9471 - val_loss: 1.6090 - val_acc: 0.6934\n",
      "Epoch 11/20\n",
      "225/225 [==============================] - 80s 355ms/step - loss: 0.1661 - acc: 0.9538 - val_loss: 1.5991 - val_acc: 0.6967\n",
      "Epoch 12/20\n",
      "225/225 [==============================] - 76s 339ms/step - loss: 0.1459 - acc: 0.9564 - val_loss: 1.6900 - val_acc: 0.6889\n",
      "Epoch 13/20\n",
      "225/225 [==============================] - 84s 374ms/step - loss: 0.1307 - acc: 0.9577 - val_loss: 1.6520 - val_acc: 0.6856\n",
      "Epoch 14/20\n",
      "225/225 [==============================] - 86s 381ms/step - loss: 0.1157 - acc: 0.9614 - val_loss: 1.7994 - val_acc: 0.6817\n",
      "Epoch 15/20\n",
      "225/225 [==============================] - 84s 371ms/step - loss: 0.1118 - acc: 0.9595 - val_loss: 1.7332 - val_acc: 0.6967\n",
      "Epoch 16/20\n",
      "225/225 [==============================] - 85s 379ms/step - loss: 0.1075 - acc: 0.9596 - val_loss: 1.8800 - val_acc: 0.6767\n",
      "Epoch 17/20\n",
      "225/225 [==============================] - 85s 378ms/step - loss: 0.0991 - acc: 0.9581 - val_loss: 1.8345 - val_acc: 0.6900\n",
      "Epoch 18/20\n",
      "225/225 [==============================] - 85s 377ms/step - loss: 0.0938 - acc: 0.9599 - val_loss: 1.8249 - val_acc: 0.6900\n",
      "Epoch 19/20\n",
      "225/225 [==============================] - 84s 373ms/step - loss: 0.0895 - acc: 0.9633 - val_loss: 1.8796 - val_acc: 0.6906\n",
      "Epoch 20/20\n",
      "225/225 [==============================] - 84s 373ms/step - loss: 0.1064 - acc: 0.9564 - val_loss: 1.8352 - val_acc: 0.6861\n"
     ]
    }
   ],
   "source": [
    "history = model.fit(pad_x_train, y_train,\n",
    "                   batch_size=32, epochs=20,\n",
    "                   validation_split=0.2)"
   ]
  },
  {
   "cell_type": "code",
   "execution_count": null,
   "id": "9651cba8",
   "metadata": {},
   "outputs": [],
   "source": []
  }
 ],
 "metadata": {
  "kernelspec": {
   "display_name": "Python 3 (ipykernel)",
   "language": "python",
   "name": "python3"
  },
  "language_info": {
   "codemirror_mode": {
    "name": "ipython",
    "version": 3
   },
   "file_extension": ".py",
   "mimetype": "text/x-python",
   "name": "python",
   "nbconvert_exporter": "python",
   "pygments_lexer": "ipython3",
   "version": "3.8.12"
  }
 },
 "nbformat": 4,
 "nbformat_minor": 5
}
